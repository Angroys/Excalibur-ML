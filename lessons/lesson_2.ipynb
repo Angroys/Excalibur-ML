{
 "cells": [
  {
   "cell_type": "code",
   "execution_count": 22,
   "metadata": {},
   "outputs": [],
   "source": [
    "import numpy as np\n",
    "import time, sys"
   ]
  },
  {
   "cell_type": "code",
   "execution_count": 2,
   "metadata": {},
   "outputs": [
    {
     "name": "stdout",
     "output_type": "stream",
     "text": [
      "[2, 4, 6, 8, 10]\n"
     ]
    }
   ],
   "source": [
    "numbers = [1,2,3,4,5]\n",
    "res = [element1 + element2 for element1, element2 in zip(numbers, numbers)]\n",
    "print(res)"
   ]
  },
  {
   "cell_type": "code",
   "execution_count": 3,
   "metadata": {},
   "outputs": [
    {
     "name": "stdout",
     "output_type": "stream",
     "text": [
      "[2 4 6 8]\n"
     ]
    }
   ],
   "source": [
    "array = np.array([1,2,3,4])\n",
    "result = array + array\n",
    "print(result)"
   ]
  },
  {
   "cell_type": "code",
   "execution_count": 14,
   "metadata": {},
   "outputs": [
    {
     "name": "stdout",
     "output_type": "stream",
     "text": [
      "42\n",
      "42\n",
      "42\n",
      "42.0\n",
      "42.0\n",
      "42.0\n",
      "(42+42j)\n",
      "True\n"
     ]
    }
   ],
   "source": [
    "print(np.int8(42))\n",
    "print(np.int16(42))\n",
    "print(np.int64(42))\n",
    "\n",
    "print(np.float16(42))\n",
    "print(np.float32(42))\n",
    "print(np.float64(42))\n",
    "\n",
    "print(np.complex64(42+42j))\n",
    "\n",
    "print(np.bool_(True))"
   ]
  },
  {
   "cell_type": "code",
   "execution_count": 20,
   "metadata": {},
   "outputs": [
    {
     "name": "stdout",
     "output_type": "stream",
     "text": [
      "List time is: 0.7711484432220459\n",
      "List time is: 0.030187606811523438\n"
     ]
    }
   ],
   "source": [
    "my_list = list(range(10000000))\n",
    "start_time = time.time()\n",
    "new_list = [element * 2 for element in my_list]\n",
    "print(f\"List time is: {time.time()-start_time}\")\n",
    "\n",
    "my_array = np.arange(10000000)\n",
    "start_time = time.time()\n",
    "new_array = my_array * 2\n",
    "print(f\"List time is: {time.time()-start_time}\")\n"
   ]
  },
  {
   "cell_type": "code",
   "execution_count": 25,
   "metadata": {},
   "outputs": [
    {
     "name": "stdout",
     "output_type": "stream",
     "text": [
      "80000056\n",
      "80000112\n"
     ]
    }
   ],
   "source": [
    "print(sys.getsizeof(my_list))\n",
    "print(sys.getsizeof(my_array))"
   ]
  },
  {
   "cell_type": "code",
   "execution_count": 28,
   "metadata": {},
   "outputs": [
    {
     "name": "stdout",
     "output_type": "stream",
     "text": [
      "List time is: 0.0\n",
      "List time is: 0.0\n",
      "100112\n",
      "800112\n"
     ]
    }
   ],
   "source": [
    "array_8bit = np.arange(100000, dtype=np.int8)\n",
    "array_64bit = np.arange(100000, dtype=np.int64)\n",
    "my_list = list(range(10000000))\n",
    "start_time = time.time()\n",
    "modified = array_8bit * 2\n",
    "print(f\"List time is: {time.time()-start_time}\")\n",
    "start_time = time.time()\n",
    "modified = array_64bit * 2\n",
    "print(f\"List time is: {time.time()-start_time}\")\n",
    "print(sys.getsizeof(array_8bit))\n",
    "print(sys.getsizeof(array_64bit))"
   ]
  },
  {
   "cell_type": "code",
   "execution_count": 44,
   "metadata": {},
   "outputs": [
    {
     "name": "stdout",
     "output_type": "stream",
     "text": [
      "Shape:  (4,)\n"
     ]
    }
   ],
   "source": [
    "arr_1d = np.array([1,2,3,4])\n",
    "print(\"Shape: \", arr_1d.shape)"
   ]
  },
  {
   "cell_type": "code",
   "execution_count": 45,
   "metadata": {},
   "outputs": [
    {
     "name": "stdout",
     "output_type": "stream",
     "text": [
      "Shape:  (2, 2)\n"
     ]
    }
   ],
   "source": [
    "arr_2d = np.array([[1,2],[3,4]])\n",
    "print(\"Shape: \", arr_2d.shape)"
   ]
  },
  {
   "cell_type": "code",
   "execution_count": 46,
   "metadata": {},
   "outputs": [
    {
     "name": "stdout",
     "output_type": "stream",
     "text": [
      "Shape:  (2, 2, 2)\n"
     ]
    }
   ],
   "source": [
    "arr_3d = np.array([[[1,2],[3,4]], [[5,6],[7,8]]])\n",
    "print(\"Shape: \", arr_3d.shape)"
   ]
  },
  {
   "cell_type": "code",
   "execution_count": 54,
   "metadata": {},
   "outputs": [
    {
     "name": "stdout",
     "output_type": "stream",
     "text": [
      "[1 2 3 4 5 6 7 8]\n",
      "(8,)\n",
      "[[1 2 3 4]\n",
      " [5 6 7 8]]\n",
      "[[[1 2]\n",
      "  [3 4]]\n",
      "\n",
      " [[5 6]\n",
      "  [7 8]]]\n"
     ]
    }
   ],
   "source": [
    "arr = np.array([1,2,3,4,5,6,7,8])\n",
    "\n",
    "print(arr)\n",
    "print(arr.shape)\n",
    "arr_2 = arr.reshape(2, 4)\n",
    "print(arr_2)\n",
    "arr_3 = arr.reshape(2, 2, 2)\n",
    "print(arr_3)"
   ]
  },
  {
   "cell_type": "code",
   "execution_count": 69,
   "metadata": {},
   "outputs": [
    {
     "data": {
      "text/plain": [
       "array([[-0.08136036, -0.25326916, -0.69873049,  0.3239158 ],\n",
       "       [ 2.03442615, -0.3583982 ,  1.29297474,  0.4895212 ],\n",
       "       [-0.03011413,  1.43120518, -0.93866569, -0.74983805],\n",
       "       [-0.831603  , -1.28857438, -1.4602086 , -0.71002607],\n",
       "       [-1.10848992, -0.58464868,  0.41855903, -1.23287519],\n",
       "       [ 2.02910216, -0.35472165, -1.47634965,  0.33871545],\n",
       "       [ 1.57546303, -1.12213303, -0.27489424, -1.00102255],\n",
       "       [ 0.20878166,  0.09349618,  1.5012207 ,  0.25440072],\n",
       "       [-0.71704737,  0.48864998,  0.19488428,  0.12447923],\n",
       "       [-0.10262599,  1.24835306,  1.01332496, -0.97194557],\n",
       "       [-0.93193263,  0.22052226,  0.26330278,  0.0288953 ],\n",
       "       [-0.73871162, -0.31069025, -0.90060069, -0.74178078],\n",
       "       [-0.27635808,  0.78830092, -0.64797493, -0.88763817],\n",
       "       [ 0.24756083, -0.61943851,  0.25054536,  0.3090398 ],\n",
       "       [-0.81716846, -1.08429301, -2.48420458, -1.03699406]])"
      ]
     },
     "execution_count": 69,
     "metadata": {},
     "output_type": "execute_result"
    }
   ],
   "source": [
    "np.arange(0, 10,2) #Works like range in python\n",
    "np.linspace(10, 50, 30) #\n",
    "np.zeros((2, 3)) #Creates an array from a tuple with 0\n",
    "np.ones(((3,4 )))#Creates an array from a tuple with 1\n",
    "np.eye(7)#input the size of the array, createa a matrice de indentitate\n",
    "np.random.rand(4, 15)# input the number of rows an columns\n",
    "np.random.randn(15, 4)# input the number of rows an columns, using normal distribution"
   ]
  },
  {
   "cell_type": "code",
   "execution_count": 78,
   "metadata": {},
   "outputs": [
    {
     "data": {
      "text/plain": [
       "(15, 4, 3, 3, 3, 3, 3, 3, 3, 3)"
      ]
     },
     "execution_count": 78,
     "metadata": {},
     "output_type": "execute_result"
    }
   ],
   "source": [
    "ceva = np.random.randn(15, 4,3,3,3,3,3, 3,3 ,3 )\n",
    "ceva.shape"
   ]
  },
  {
   "cell_type": "code",
   "execution_count": 81,
   "metadata": {},
   "outputs": [
    {
     "data": {
      "text/plain": [
       "8"
      ]
     },
     "execution_count": 81,
     "metadata": {},
     "output_type": "execute_result"
    }
   ],
   "source": [
    "ceva.ndim # number of dimensions \n",
    "ceva.size # number of elements in an arry\n",
    "ceva.dtype # return the array type\n",
    "ceva.itemsize #numarul de biti "
   ]
  },
  {
   "cell_type": "code",
   "execution_count": 83,
   "metadata": {},
   "outputs": [],
   "source": [
    "altceva = np.array([1,2,3,4,5,6,7])\n",
    "print(altceva[0])"
   ]
  },
  {
   "cell_type": "code",
   "execution_count": null,
   "metadata": {},
   "outputs": [],
   "source": []
  },
  {
   "cell_type": "code",
   "execution_count": null,
   "metadata": {},
   "outputs": [],
   "source": []
  }
 ],
 "metadata": {
  "kernelspec": {
   "display_name": "excalibur",
   "language": "python",
   "name": "python3"
  },
  "language_info": {
   "codemirror_mode": {
    "name": "ipython",
    "version": 3
   },
   "file_extension": ".py",
   "mimetype": "text/x-python",
   "name": "python",
   "nbconvert_exporter": "python",
   "pygments_lexer": "ipython3",
   "version": "3.12.5"
  }
 },
 "nbformat": 4,
 "nbformat_minor": 2
}
