{
 "cells": [
  {
   "cell_type": "code",
   "execution_count": 1,
   "metadata": {},
   "outputs": [
    {
     "name": "stdout",
     "output_type": "stream",
     "text": [
      "Collecting gymnasium\n",
      "  Downloading gymnasium-1.0.0-py3-none-any.whl.metadata (9.5 kB)\n",
      "Requirement already satisfied: numpy>=1.21.0 in i:\\apps\\anaconda big\\envs\\excalibur\\lib\\site-packages (from gymnasium) (2.0.0)\n",
      "Requirement already satisfied: cloudpickle>=1.2.0 in i:\\apps\\anaconda big\\envs\\excalibur\\lib\\site-packages (from gymnasium) (3.1.0)\n",
      "Requirement already satisfied: typing-extensions>=4.3.0 in i:\\apps\\anaconda big\\envs\\excalibur\\lib\\site-packages (from gymnasium) (4.12.2)\n",
      "Collecting farama-notifications>=0.0.1 (from gymnasium)\n",
      "  Downloading Farama_Notifications-0.0.4-py3-none-any.whl.metadata (558 bytes)\n",
      "Downloading gymnasium-1.0.0-py3-none-any.whl (958 kB)\n",
      "   ---------------------------------------- 0.0/958.1 kB ? eta -:--:--\n",
      "   ---------------------------------------- 0.0/958.1 kB ? eta -:--:--\n",
      "   ---------------------------------------- 0.0/958.1 kB ? eta -:--:--\n",
      "   ---------------------------------------- 0.0/958.1 kB ? eta -:--:--\n",
      "   ---------------------------------------- 0.0/958.1 kB ? eta -:--:--\n",
      "   ---------------------------------------- 0.0/958.1 kB ? eta -:--:--\n",
      "   ---------- ----------------------------- 262.1/958.1 kB ? eta -:--:--\n",
      "   ---------- ----------------------------- 262.1/958.1 kB ? eta -:--:--\n",
      "   ---------- ----------------------------- 262.1/958.1 kB ? eta -:--:--\n",
      "   ---------- ----------------------------- 262.1/958.1 kB ? eta -:--:--\n",
      "   -------------------- ----------------- 524.3/958.1 kB 279.8 kB/s eta 0:00:02\n",
      "   -------------------- ----------------- 524.3/958.1 kB 279.8 kB/s eta 0:00:02\n",
      "   -------------------- ----------------- 524.3/958.1 kB 279.8 kB/s eta 0:00:02\n",
      "   -------------------- ----------------- 524.3/958.1 kB 279.8 kB/s eta 0:00:02\n",
      "   ------------------------------- ------ 786.4/958.1 kB 325.8 kB/s eta 0:00:01\n",
      "   -------------------------------------- 958.1/958.1 kB 350.8 kB/s eta 0:00:00\n",
      "Downloading Farama_Notifications-0.0.4-py3-none-any.whl (2.5 kB)\n",
      "Installing collected packages: farama-notifications, gymnasium\n",
      "Successfully installed farama-notifications-0.0.4 gymnasium-1.0.0\n",
      "Note: you may need to restart the kernel to use updated packages.\n"
     ]
    }
   ],
   "source": [
    "pip install gymnasium"
   ]
  },
  {
   "cell_type": "code",
   "execution_count": null,
   "metadata": {},
   "outputs": [],
   "source": [
    "import numpy as np\n",
    "import pandas as pd\n",
    "import gymnasium as gym"
   ]
  }
 ],
 "metadata": {
  "kernelspec": {
   "display_name": "excalibur",
   "language": "python",
   "name": "python3"
  },
  "language_info": {
   "codemirror_mode": {
    "name": "ipython",
    "version": 3
   },
   "file_extension": ".py",
   "mimetype": "text/x-python",
   "name": "python",
   "nbconvert_exporter": "python",
   "pygments_lexer": "ipython3",
   "version": "3.12.6"
  }
 },
 "nbformat": 4,
 "nbformat_minor": 2
}
