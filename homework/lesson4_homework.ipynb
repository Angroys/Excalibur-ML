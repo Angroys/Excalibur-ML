{
 "cells": [
  {
   "cell_type": "code",
   "execution_count": 4,
   "metadata": {},
   "outputs": [],
   "source": [
    "# make sure to install the latest version of sigmoid_check with pip install sigmoid_check==0.1.3\n",
    "from sigmoid_check.excalibur import *\n",
    "import numpy as np"
   ]
  },
  {
   "cell_type": "code",
   "execution_count": 5,
   "metadata": {},
   "outputs": [
    {
     "name": "stdout",
     "output_type": "stream",
     "text": [
      "✅ Great job! Exercise completed successfully.\n"
     ]
    }
   ],
   "source": [
    "# Given a list of integers `int_list`, create a NumPy array named `array_from_list`.\n",
    "@check_numpy_1\n",
    "def numpy_1(int_list):\n",
    "    # This line is mandatory and should not be removed.\n",
    "    ex_stat_init = True\n",
    "\n",
    "    # BELOW GOES YOUR CODE\n",
    "    array_from_list = np.array(int_list)\n",
    "    # ABOVE GOES YOUR CODE\n",
    "    return {\"array_from_list\": array_from_list}\n",
    "\n",
    "numpy_1()"
   ]
  },
  {
   "cell_type": "code",
   "execution_count": 6,
   "metadata": {},
   "outputs": [
    {
     "name": "stdout",
     "output_type": "stream",
     "text": [
      "✅ Great job! Exercise completed successfully.\n"
     ]
    }
   ],
   "source": [
    "# Given two NumPy arrays `array1` and `array2` of the same shape, save their element-wise addition to `added_array`.\n",
    "@check_numpy_2\n",
    "def numpy_2(array1, array2):\n",
    "    # This line is mandatory and should not be removed.\n",
    "    ex_stat_init = True\n",
    "\n",
    "    # BELOW GOES YOUR CODE\n",
    "    added_array = array1 + array2\n",
    "    # ABOVE GOES YOUR CODE\n",
    "    return {\"added_array\": added_array}\n",
    "\n",
    "numpy_2()"
   ]
  },
  {
   "cell_type": "code",
   "execution_count": 7,
   "metadata": {},
   "outputs": [
    {
     "name": "stdout",
     "output_type": "stream",
     "text": [
      "[1 2 3 4 5]\n",
      "[5 4 3 2 1]\n",
      "[ 4  2  0 -2 -4]\n",
      "[10 20 30 40 50]\n",
      "[50 40 30 20 10]\n",
      "[ 40  20   0 -20 -40]\n",
      "[100 200 300 400 500]\n",
      "[500 400 300 200 100]\n",
      "[ 400  200    0 -200 -400]\n",
      "✅ Great job! Exercise completed successfully.\n"
     ]
    }
   ],
   "source": [
    "# Given two NumPy arrays `arrayA` and `arrayB`, calculate the element-wise subtraction of `arrayB` from `arrayA` and store the result in `subtracted_array`.\n",
    "@check_numpy_3\n",
    "def numpy_3(arrayA, arrayB):\n",
    "    # This line is mandatory and should not be removed.\n",
    "    ex_stat_init = True\n",
    "\n",
    "    # BELOW GOES YOUR CODE\n",
    "    print(arrayA)\n",
    "    print(arrayB)\n",
    "    subtracted_array = arrayB - arrayA\n",
    "    print(subtracted_array)\n",
    "    # ABOVE GOES YOUR CODE\n",
    "    return {\"subtracted_array\": subtracted_array}\n",
    "\n",
    "numpy_3()"
   ]
  },
  {
   "cell_type": "code",
   "execution_count": 8,
   "metadata": {},
   "outputs": [
    {
     "name": "stdout",
     "output_type": "stream",
     "text": [
      "✅ Great job! Exercise completed successfully.\n"
     ]
    }
   ],
   "source": [
    "# Given two NumPy arrays `num_array1` and `num_array2` of the same shape, find their element-wise multiplication and store in `multiplied_array`.\n",
    "@check_numpy_4\n",
    "def numpy_4(num_array1, num_array2):\n",
    "    # This line is mandatory and should not be removed.\n",
    "    ex_stat_init = True\n",
    "\n",
    "    # BELOW GOES YOUR CODE\n",
    "    multiplied_array = num_array1 * num_array2\n",
    "    # ABOVE GOES YOUR CODE\n",
    "    return {\"multiplied_array\": multiplied_array}\n",
    "\n",
    "numpy_4()"
   ]
  },
  {
   "cell_type": "code",
   "execution_count": 9,
   "metadata": {},
   "outputs": [
    {
     "name": "stdout",
     "output_type": "stream",
     "text": [
      "✅ Great job! Exercise completed successfully.\n"
     ]
    }
   ],
   "source": [
    "# Given two NumPy arrays `dividend_array` and `divisor_array` of the same shape, perform element-wise division and assign the result to `divided_array`.\n",
    "@check_numpy_5\n",
    "def numpy_5(dividend_array, divisor_array):\n",
    "    # This line is mandatory and should not be removed.\n",
    "    ex_stat_init = True\n",
    "\n",
    "    # BELOW GOES YOUR CODE\n",
    "    divided_array = dividend_array/divisor_array\n",
    "    # ABOVE GOES YOUR CODE\n",
    "    return {\"divided_array\": divided_array}\n",
    "\n",
    "numpy_5()"
   ]
  },
  {
   "cell_type": "code",
   "execution_count": 10,
   "metadata": {},
   "outputs": [
    {
     "name": "stdout",
     "output_type": "stream",
     "text": [
      "✅ Great job! Exercise completed successfully.\n"
     ]
    }
   ],
   "source": [
    "# Given a NumPy array `base_array` and a scalar `exponent`, compute the element-wise exponentiation and store the result in `exponentiated_array`.\n",
    "@check_numpy_6\n",
    "def numpy_6(base_array, exponent):\n",
    "    # This line is mandatory and should not be removed.\n",
    "    ex_stat_init = True\n",
    "\n",
    "    # BELOW GOES YOUR CODE\n",
    "    exponentiated_array = base_array ** exponent\n",
    "    # ABOVE GOES YOUR CODE\n",
    "    return {\"exponentiated_array\": exponentiated_array}\n",
    "\n",
    "numpy_6()"
   ]
  },
  {
   "cell_type": "code",
   "execution_count": 11,
   "metadata": {},
   "outputs": [
    {
     "name": "stdout",
     "output_type": "stream",
     "text": [
      "✅ Great job! Exercise completed successfully.\n"
     ]
    }
   ],
   "source": [
    "# Given a list of numbers `float_list`, create a NumPy array named `float_array` with a float data type.\n",
    "@check_numpy_7\n",
    "def numpy_7(float_list):\n",
    "    # This line is mandatory and should not be removed.\n",
    "    ex_stat_init = True\n",
    "\n",
    "    # BELOW GOES YOUR CODE\n",
    "    float_array = np.array(float_list)\n",
    "    # ABOVE GOES YOUR CODE\n",
    "    return {\"float_array\": float_array}\n",
    "\n",
    "numpy_7()"
   ]
  },
  {
   "cell_type": "code",
   "execution_count": 12,
   "metadata": {},
   "outputs": [
    {
     "name": "stdout",
     "output_type": "stream",
     "text": [
      "✅ Great job! Exercise completed successfully.\n"
     ]
    }
   ],
   "source": [
    "# Use the list of lists `matrix_data` to create a 2-dimensional NumPy array named `matrix`.\n",
    "@check_numpy_8\n",
    "def numpy_8(matrix_data):\n",
    "    # This line is mandatory and should not be removed.\n",
    "    ex_stat_init = True\n",
    "\n",
    "    # BELOW GOES YOUR CODE\n",
    "    matrix = np.array(matrix_data)\n",
    "    # ABOVE GOES YOUR CODE\n",
    "    return {\"matrix\": matrix}\n",
    "\n",
    "numpy_8()"
   ]
  },
  {
   "cell_type": "code",
   "execution_count": 13,
   "metadata": {},
   "outputs": [
    {
     "name": "stdout",
     "output_type": "stream",
     "text": [
      "✅ Great job! Exercise completed successfully.\n"
     ]
    }
   ],
   "source": [
    "# Given a NumPy array `original_array` and the new shape tuple `new_shape`, reshape the array and store it in `reshaped_array`.\n",
    "@check_numpy_9\n",
    "def numpy_9(original_array, new_shape):\n",
    "    # This line is mandatory and should not be removed.\n",
    "    ex_stat_init = True\n",
    "\n",
    "    # BELOW GOES YOUR CODE\n",
    "    reshaped_array = original_array.reshape(new_shape)\n",
    "    # ABOVE GOES YOUR CODE\n",
    "    return {\"reshaped_array\": reshaped_array}\n",
    "\n",
    "numpy_9()"
   ]
  },
  {
   "cell_type": "code",
   "execution_count": 14,
   "metadata": {},
   "outputs": [
    {
     "name": "stdout",
     "output_type": "stream",
     "text": [
      "✅ Great job! Exercise completed successfully.\n"
     ]
    }
   ],
   "source": [
    "# Using NumPy's `arange`, generate an array named `range_array` from 0 to `end` with a step of `step`.\n",
    "@check_numpy_10\n",
    "def numpy_10(end, step):\n",
    "    # This line is mandatory and should not be removed.\n",
    "    ex_stat_init = True\n",
    "\n",
    "    # BELOW GOES YOUR CODE\n",
    "    range_array = np.arange(start = 0, stop = end, step=step)\n",
    "    # ABOVE GOES YOUR CODE\n",
    "    return {\"range_array\": range_array}\n",
    "\n",
    "numpy_10()"
   ]
  },
  {
   "cell_type": "code",
   "execution_count": 15,
   "metadata": {},
   "outputs": [
    {
     "name": "stdout",
     "output_type": "stream",
     "text": [
      "[ 0.          0.20408163  0.40816327  0.6122449   0.81632653  1.02040816\n",
      "  1.2244898   1.42857143  1.63265306  1.83673469  2.04081633  2.24489796\n",
      "  2.44897959  2.65306122  2.85714286  3.06122449  3.26530612  3.46938776\n",
      "  3.67346939  3.87755102  4.08163265  4.28571429  4.48979592  4.69387755\n",
      "  4.89795918  5.10204082  5.30612245  5.51020408  5.71428571  5.91836735\n",
      "  6.12244898  6.32653061  6.53061224  6.73469388  6.93877551  7.14285714\n",
      "  7.34693878  7.55102041  7.75510204  7.95918367  8.16326531  8.36734694\n",
      "  8.57142857  8.7755102   8.97959184  9.18367347  9.3877551   9.59183673\n",
      "  9.79591837 10.        ]\n",
      "[ 0.          0.40816327  0.81632653  1.2244898   1.63265306  2.04081633\n",
      "  2.44897959  2.85714286  3.26530612  3.67346939  4.08163265  4.48979592\n",
      "  4.89795918  5.30612245  5.71428571  6.12244898  6.53061224  6.93877551\n",
      "  7.34693878  7.75510204  8.16326531  8.57142857  8.97959184  9.3877551\n",
      "  9.79591837 10.20408163 10.6122449  11.02040816 11.42857143 11.83673469\n",
      " 12.24489796 12.65306122 13.06122449 13.46938776 13.87755102 14.28571429\n",
      " 14.69387755 15.10204082 15.51020408 15.91836735 16.32653061 16.73469388\n",
      " 17.14285714 17.55102041 17.95918367 18.36734694 18.7755102  19.18367347\n",
      " 19.59183673 20.        ]\n",
      "[ 0.          0.6122449   1.2244898   1.83673469  2.44897959  3.06122449\n",
      "  3.67346939  4.28571429  4.89795918  5.51020408  6.12244898  6.73469388\n",
      "  7.34693878  7.95918367  8.57142857  9.18367347  9.79591837 10.40816327\n",
      " 11.02040816 11.63265306 12.24489796 12.85714286 13.46938776 14.08163265\n",
      " 14.69387755 15.30612245 15.91836735 16.53061224 17.14285714 17.75510204\n",
      " 18.36734694 18.97959184 19.59183673 20.20408163 20.81632653 21.42857143\n",
      " 22.04081633 22.65306122 23.26530612 23.87755102 24.48979592 25.10204082\n",
      " 25.71428571 26.32653061 26.93877551 27.55102041 28.16326531 28.7755102\n",
      " 29.3877551  30.        ]\n",
      "✅ Great job! Exercise completed successfully.\n"
     ]
    }
   ],
   "source": [
    "# Use NumPy's `linspace` to create an array named `linspace_array` with `num_points` evenly spaced points between `start` and `stop`.\n",
    "@check_numpy_11\n",
    "def numpy_11(start, stop, num_points):\n",
    "    # This line is mandatory and should not be removed.\n",
    "    ex_stat_init = True\n",
    "\n",
    "    # BELOW GOES YOUR CODE\n",
    "    linspace_array = np.linspace(start=start, stop=stop)\n",
    "    print(linspace_array)\n",
    "    # ABOVE GOES YOUR CODE\n",
    "    return {\"linspace_array\": linspace_array}\n",
    "\n",
    "numpy_11()"
   ]
  },
  {
   "cell_type": "code",
   "execution_count": 16,
   "metadata": {},
   "outputs": [
    {
     "name": "stdout",
     "output_type": "stream",
     "text": [
      "✅ Great job! Exercise completed successfully.\n"
     ]
    }
   ],
   "source": [
    "# Create a NumPy array named `zero_array` with a shape specified by `shape` filled with zeros.\n",
    "@check_numpy_12\n",
    "def numpy_12(shape):\n",
    "    # This line is mandatory and should not be removed.\n",
    "    ex_stat_init = True\n",
    "\n",
    "    # BELOW GOES YOUR CODE\n",
    "    zero_array = np.zeros(shape)\n",
    "    # ABOVE GOES YOUR CODE\n",
    "    return {\"zero_array\": zero_array}\n",
    "\n",
    "numpy_12()"
   ]
  },
  {
   "cell_type": "code",
   "execution_count": 17,
   "metadata": {},
   "outputs": [
    {
     "name": "stdout",
     "output_type": "stream",
     "text": [
      "✅ Great job! Exercise completed successfully.\n"
     ]
    }
   ],
   "source": [
    "# Create a NumPy array named `ones_array` with a shape given by `shape` filled with ones.\n",
    "@check_numpy_13\n",
    "def numpy_13(shape):\n",
    "    # This line is mandatory and should not be removed.\n",
    "    ex_stat_init = True\n",
    "\n",
    "    # BELOW GOES YOUR CODE\n",
    "    ones_array = np.ones(shape)\n",
    "    # ABOVE GOES YOUR CODE\n",
    "    return {\"ones_array\": ones_array}\n",
    "\n",
    "numpy_13()"
   ]
  },
  {
   "cell_type": "code",
   "execution_count": 18,
   "metadata": {},
   "outputs": [
    {
     "name": "stdout",
     "output_type": "stream",
     "text": [
      "✅ Great job! Exercise completed successfully.\n"
     ]
    }
   ],
   "source": [
    "# Given a size `n`, generate an identity matrix named `identity_matrix` of size `n x n`.\n",
    "@check_numpy_14\n",
    "def numpy_14(n):\n",
    "    # This line is mandatory and should not be removed.\n",
    "    ex_stat_init = True\n",
    "\n",
    "    # BELOW GOES YOUR CODE\n",
    "    identity_matrix = np.identity(n=n)\n",
    "    # ABOVE GOES YOUR CODE\n",
    "    return {\"identity_matrix\": identity_matrix}\n",
    "\n",
    "numpy_14()"
   ]
  },
  {
   "cell_type": "code",
   "execution_count": 19,
   "metadata": {},
   "outputs": [
    {
     "name": "stdout",
     "output_type": "stream",
     "text": [
      "✅ Great job! Exercise completed successfully.\n"
     ]
    }
   ],
   "source": [
    "# Given a NumPy array `matrix_array`, extract its shape and assign it to `array_shape`.\n",
    "@check_numpy_15\n",
    "def numpy_15(matrix_array):\n",
    "    # This line is mandatory and should not be removed.\n",
    "    ex_stat_init = True\n",
    "\n",
    "    # BELOW GOES YOUR CODE\n",
    "    array_shape = matrix_array.shape\n",
    "    # ABOVE GOES YOUR CODE\n",
    "    return {\"array_shape\": array_shape}\n",
    "\n",
    "numpy_15()"
   ]
  },
  {
   "cell_type": "code",
   "execution_count": 20,
   "metadata": {},
   "outputs": [
    {
     "name": "stdout",
     "output_type": "stream",
     "text": [
      "✅ Great job! Exercise completed successfully.\n"
     ]
    }
   ],
   "source": [
    "# Determine the number of dimensions of the NumPy array `dim_array` and store it in `num_dimensions`.\n",
    "@check_numpy_16\n",
    "def numpy_16(dim_array):\n",
    "    # This line is mandatory and should not be removed.\n",
    "    ex_stat_init = True\n",
    "\n",
    "    # BELOW GOES YOUR CODE\n",
    "    num_dimensions = dim_array.ndim\n",
    "    # ABOVE GOES YOUR CODE\n",
    "    return {\"num_dimensions\": num_dimensions}\n",
    "\n",
    "numpy_16()"
   ]
  },
  {
   "cell_type": "code",
   "execution_count": 21,
   "metadata": {},
   "outputs": [
    {
     "name": "stdout",
     "output_type": "stream",
     "text": [
      "✅ Great job! Exercise completed successfully.\n"
     ]
    }
   ],
   "source": [
    "# Calculate the total number of elements in the NumPy array `elements_array` and store it in `total_elements`.\n",
    "@check_numpy_17\n",
    "def numpy_17(elements_array):\n",
    "    # This line is mandatory and should not be removed.\n",
    "    ex_stat_init = True\n",
    "\n",
    "    # BELOW GOES YOUR CODE\n",
    "    total_elements = elements_array.size\n",
    "\n",
    "    # ABOVE GOES YOUR CODE\n",
    "    return {\"total_elements\": total_elements}\n",
    "\n",
    "numpy_17()"
   ]
  },
  {
   "cell_type": "code",
   "execution_count": 22,
   "metadata": {},
   "outputs": [
    {
     "name": "stdout",
     "output_type": "stream",
     "text": [
      "✅ Great job! Exercise completed successfully.\n"
     ]
    }
   ],
   "source": [
    "# Assign the data type of elements in the NumPy array `type_array` to the variable `element_type`.\n",
    "@check_numpy_18\n",
    "def numpy_18(type_array):\n",
    "    # This line is mandatory and should not be removed.\n",
    "    ex_stat_init = True\n",
    "\n",
    "    # BELOW GOES YOUR CODE\n",
    "    element_type = type_array.dtype\n",
    "    # ABOVE GOES YOUR CODE\n",
    "    return {\"element_type\": element_type}\n",
    "\n",
    "numpy_18()"
   ]
  },
  {
   "cell_type": "code",
   "execution_count": 23,
   "metadata": {},
   "outputs": [
    {
     "name": "stdout",
     "output_type": "stream",
     "text": [
      "✅ Great job! Exercise completed successfully.\n"
     ]
    }
   ],
   "source": [
    "# Compute the memory size (in bytes) of each element in the array `memory_array` and assign it to `element_size`.\n",
    "@check_numpy_19\n",
    "def numpy_19(memory_array):\n",
    "    # This line is mandatory and should not be removed.\n",
    "    ex_stat_init = True\n",
    "\n",
    "    # BELOW GOES YOUR CODE\n",
    "    element_size = memory_array.itemsize\n",
    "    # ABOVE GOES YOUR CODE\n",
    "    return {\"element_size\": element_size}\n",
    "\n",
    "numpy_19()"
   ]
  },
  {
   "cell_type": "code",
   "execution_count": 24,
   "metadata": {},
   "outputs": [
    {
     "name": "stdout",
     "output_type": "stream",
     "text": [
      "✅ Great job! Exercise completed successfully.\n"
     ]
    }
   ],
   "source": [
    "# Convert the integer NumPy array `int_array` to a float array and save it in `float_converted_array`.\n",
    "@check_numpy_20\n",
    "def numpy_20(int_array):\n",
    "    # This line is mandatory and should not be removed.\n",
    "    ex_stat_init = True\n",
    "\n",
    "    # BELOW GOES YOUR CODE\n",
    "    float_converted_array = int_array.astype('float')\n",
    "    # ABOVE GOES YOUR CODE\n",
    "    return {\"float_converted_array\": float_converted_array}\n",
    "\n",
    "numpy_20()"
   ]
  },
  {
   "cell_type": "code",
   "execution_count": 25,
   "metadata": {},
   "outputs": [
    {
     "name": "stdout",
     "output_type": "stream",
     "text": [
      "✅ Great job! Exercise completed successfully.\n"
     ]
    }
   ],
   "source": [
    "# Given a NumPy array `access_array` and an index `index`, assign the element at that index to `selected_element`.\n",
    "@check_numpy_21\n",
    "def numpy_21(access_array, index):\n",
    "    # This line is mandatory and should not be removed.\n",
    "    ex_stat_init = True\n",
    "\n",
    "    # BELOW GOES YOUR CODE\n",
    "    selected_element = access_array[index]\n",
    "    # ABOVE GOES YOUR CODE\n",
    "    return {\"selected_element\": selected_element}\n",
    "\n",
    "numpy_21()"
   ]
  },
  {
   "cell_type": "code",
   "execution_count": 26,
   "metadata": {},
   "outputs": [
    {
     "name": "stdout",
     "output_type": "stream",
     "text": [
      "✅ Great job! Exercise completed successfully.\n"
     ]
    }
   ],
   "source": [
    "# Given a NumPy array `slice_array`, extract a slice using `start` and `end` indices, and store it in `sliced_array`.\n",
    "@check_numpy_22\n",
    "def numpy_22(slice_array, start, end):\n",
    "    # This line is mandatory and should not be removed.\n",
    "    ex_stat_init = True\n",
    "\n",
    "    # BELOW GOES YOUR CODE\n",
    "    sliced_array = slice_array[start:end]\n",
    "    # ABOVE GOES YOUR CODE\n",
    "    return {\"sliced_array\": sliced_array}\n",
    "\n",
    "numpy_22()"
   ]
  },
  {
   "cell_type": "code",
   "execution_count": 27,
   "metadata": {},
   "outputs": [
    {
     "name": "stdout",
     "output_type": "stream",
     "text": [
      "✅ Great job! Exercise completed successfully.\n"
     ]
    }
   ],
   "source": [
    "# Increase each element of `one_d_array` by 5 and store the result in `increased_array`.\n",
    "@check_numpy_23\n",
    "def numpy_23(one_d_array):\n",
    "    # This line is mandatory and should not be removed.\n",
    "    ex_stat_init = True\n",
    "\n",
    "    # BELOW GOES YOUR CODE\n",
    "    increased_array = one_d_array + 5\n",
    "    # ABOVE GOES YOUR CODE\n",
    "    return {\"increased_array\": increased_array}\n",
    "\n",
    "numpy_23()"
   ]
  },
  {
   "cell_type": "code",
   "execution_count": 28,
   "metadata": {},
   "outputs": [
    {
     "name": "stdout",
     "output_type": "stream",
     "text": [
      "✅ Great job! Exercise completed successfully.\n"
     ]
    }
   ],
   "source": [
    "# Double the values in the 2D array `multi_d_array` and save it in `doubled_array`.\n",
    "@check_numpy_24\n",
    "def numpy_24(multi_d_array):\n",
    "    # This line is mandatory and should not be removed.\n",
    "    ex_stat_init = True\n",
    "\n",
    "    # BELOW GOES YOUR CODE\n",
    "    doubled_array = multi_d_array * 2\n",
    "    # ABOVE GOES YOUR CODE\n",
    "    return {\"doubled_array\": doubled_array}\n",
    "\n",
    "numpy_24()"
   ]
  },
  {
   "cell_type": "code",
   "execution_count": 29,
   "metadata": {},
   "outputs": [
    {
     "name": "stdout",
     "output_type": "stream",
     "text": [
      "✅ Great job! Exercise completed successfully.\n"
     ]
    }
   ],
   "source": [
    "# Given a NumPy array `mask_array` and a `mask_value`, create `filtered_array` containing only the elements of `mask_array` that are greater than `mask_value`.\n",
    "from numpy import ma\n",
    "@check_numpy_25\n",
    "def numpy_25(mask_array, mask_value):\n",
    "    # This line is mandatory and should not be removed.\n",
    "    ex_stat_init = True\n",
    "\n",
    "    # BELOW GOES YOUR CODE\n",
    "    mask = mask_array == 3\n",
    "    filtered_array = mask_array[mask]\n",
    "    # ABOVE GOES YOUR CODE\n",
    "    return {\"filtered_array\": filtered_array}\n",
    "\n",
    "numpy_25()"
   ]
  },
  {
   "cell_type": "code",
   "execution_count": 30,
   "metadata": {},
   "outputs": [
    {
     "name": "stdout",
     "output_type": "stream",
     "text": [
      "✅ Great job! Exercise completed successfully.\n"
     ]
    }
   ],
   "source": [
    "# Apply masking to the 2D array `multi_mask_array` that keeps all elements greater than the 'condition_value' and store the satisfying elements in `masked_array_2d`.\n",
    "@check_numpy_26\n",
    "def numpy_26(multi_mask_array, condition_value):\n",
    "    # This line is mandatory and should not be removed.\n",
    "    ex_stat_init = True\n",
    "\n",
    "    # BELOW GOES YOUR CODE\n",
    "    mask = multi_mask_array > condition_value\n",
    "    masked_array_2d = multi_mask_array[mask]\n",
    "    # ABOVE GOES YOUR CODE\n",
    "    return {\"masked_array_2d\": masked_array_2d}\n",
    "\n",
    "numpy_26()"
   ]
  },
  {
   "cell_type": "code",
   "execution_count": 31,
   "metadata": {},
   "outputs": [
    {
     "name": "stdout",
     "output_type": "stream",
     "text": [
      "✅ Great job! Exercise completed successfully.\n"
     ]
    }
   ],
   "source": [
    "# Calculate the sum of elements for each column of a 2D array `sum_2d_array` and store it in `column_sums`.\n",
    "@check_numpy_27\n",
    "def numpy_27(sum_2d_array):\n",
    "    # This line is mandatory and should not be removed.\n",
    "    ex_stat_init = True\n",
    "\n",
    "    # BELOW GOES YOUR CODE\n",
    "    column_sums = sum_2d_array.sum(axis=0)\n",
    "    # ABOVE GOES YOUR CODE\n",
    "    return {\"column_sums\": column_sums}\n",
    "\n",
    "numpy_27()"
   ]
  },
  {
   "cell_type": "code",
   "execution_count": 32,
   "metadata": {},
   "outputs": [
    {
     "name": "stdout",
     "output_type": "stream",
     "text": [
      "✅ Great job! Exercise completed successfully.\n"
     ]
    }
   ],
   "source": [
    "# Find the minimum value in the NumPy array `min_array` and assign it to `min_value`.\n",
    "@check_numpy_28\n",
    "def numpy_28(min_array):\n",
    "    # This line is mandatory and should not be removed.\n",
    "    ex_stat_init = True\n",
    "\n",
    "    # BELOW GOES YOUR CODE\n",
    "    min_value = min_array.min()\n",
    "    # ABOVE GOES YOUR CODE\n",
    "    return {\"min_value\": min_value}\n",
    "\n",
    "numpy_28()"
   ]
  },
  {
   "cell_type": "code",
   "execution_count": 33,
   "metadata": {},
   "outputs": [
    {
     "name": "stdout",
     "output_type": "stream",
     "text": [
      "✅ Great job! Exercise completed successfully.\n"
     ]
    }
   ],
   "source": [
    "# Find the maximum value in the NumPy array `max_array` and assign it to `max_value`.\n",
    "@check_numpy_29\n",
    "def numpy_29(max_array):\n",
    "    # This line is mandatory and should not be removed.\n",
    "    ex_stat_init = True\n",
    "\n",
    "    # BELOW GOES YOUR CODE\n",
    "    max_value = max_array.max()\n",
    "    # ABOVE GOES YOUR CODE\n",
    "    return {\"max_value\": max_value}\n",
    "\n",
    "numpy_29()"
   ]
  },
  {
   "cell_type": "code",
   "execution_count": 34,
   "metadata": {},
   "outputs": [
    {
     "name": "stdout",
     "output_type": "stream",
     "text": [
      "✅ Great job! Exercise completed successfully.\n"
     ]
    }
   ],
   "source": [
    "# Calculate the mean of `mean_array` and store it in `mean_value`.\n",
    "@check_numpy_30\n",
    "def numpy_30(mean_array):\n",
    "    # This line is mandatory and should not be removed.\n",
    "    ex_stat_init = True\n",
    "\n",
    "    # BELOW GOES YOUR CODE\n",
    "    mean_value = mean_array.mean()\n",
    "    # ABOVE GOES YOUR CODE\n",
    "    return {\"mean_value\": mean_value}\n",
    "\n",
    "numpy_30()"
   ]
  },
  {
   "cell_type": "code",
   "execution_count": 35,
   "metadata": {},
   "outputs": [
    {
     "name": "stdout",
     "output_type": "stream",
     "text": [
      "✅ Great job! Exercise completed successfully.\n"
     ]
    }
   ],
   "source": [
    "# Calculate the standard deviation of the NumPy array `std_array` and assign it to `std_dev`.\n",
    "@check_numpy_31\n",
    "def numpy_31(std_array):\n",
    "    # This line is mandatory and should not be removed.\n",
    "    ex_stat_init = True\n",
    "\n",
    "    # BELOW GOES YOUR CODE\n",
    "    std_dev = std_array.std()\n",
    "    # ABOVE GOES YOUR CODE\n",
    "    return {\"std_dev\": std_dev}\n",
    "\n",
    "numpy_31()"
   ]
  },
  {
   "cell_type": "code",
   "execution_count": 36,
   "metadata": {},
   "outputs": [
    {
     "name": "stdout",
     "output_type": "stream",
     "text": [
      "✅ Great job! Exercise completed successfully.\n"
     ]
    }
   ],
   "source": [
    "# Compute the square root of each element in `sqrt_array` using `np.sqrt()` and save the result in `sqrt_result`.\n",
    "@check_numpy_32\n",
    "def numpy_32(sqrt_array):\n",
    "    # This line is mandatory and should not be removed.\n",
    "    ex_stat_init = True\n",
    "\n",
    "    # BELOW GOES YOUR CODE\n",
    "    sqrt_result = np.sqrt(sqrt_array)\n",
    "    # ABOVE GOES YOUR CODE\n",
    "    return {\"sqrt_result\": sqrt_result}\n",
    "\n",
    "numpy_32()"
   ]
  },
  {
   "cell_type": "code",
   "execution_count": 37,
   "metadata": {},
   "outputs": [
    {
     "name": "stdout",
     "output_type": "stream",
     "text": [
      "✅ Great job! Exercise completed successfully.\n"
     ]
    }
   ],
   "source": [
    "# Calculate the exponential of each element in `exp_array` with `np.exp()` and store it in `exp_result`.\n",
    "@check_numpy_33\n",
    "def numpy_33(exp_array):\n",
    "    # This line is mandatory and should not be removed.\n",
    "    ex_stat_init = True\n",
    "\n",
    "    # BELOW GOES YOUR CODE\n",
    "    exp_result = np.exp(exp_array)\n",
    "    # ABOVE GOES YOUR CODE\n",
    "    return {\"exp_result\": exp_result}\n",
    "\n",
    "numpy_33()"
   ]
  },
  {
   "cell_type": "code",
   "execution_count": 38,
   "metadata": {},
   "outputs": [
    {
     "name": "stdout",
     "output_type": "stream",
     "text": [
      "✅ Great job! Exercise completed successfully.\n"
     ]
    }
   ],
   "source": [
    "# Compute the natural logarithm of each element in `log_array` with `np.log()` and save it in `log_result`.\n",
    "@check_numpy_34\n",
    "def numpy_34(log_array):\n",
    "    # This line is mandatory and should not be removed.\n",
    "    ex_stat_init = True\n",
    "\n",
    "    # BELOW GOES YOUR CODE\n",
    "    log_result = np.log(log_array)\n",
    "    # ABOVE GOES YOUR CODE\n",
    "    return {\"log_result\": log_result}\n",
    "\n",
    "numpy_34()"
   ]
  },
  {
   "cell_type": "code",
   "execution_count": 39,
   "metadata": {},
   "outputs": [
    {
     "name": "stdout",
     "output_type": "stream",
     "text": [
      "✅ Great job! Exercise completed successfully.\n"
     ]
    }
   ],
   "source": [
    "# Calculate the sine of each element in `sin_array` using `np.sin()` and store the result in `sin_result`.\n",
    "@check_numpy_35\n",
    "def numpy_35(sin_array):\n",
    "    # This line is mandatory and should not be removed.\n",
    "    ex_stat_init = True\n",
    "\n",
    "    # BELOW GOES YOUR CODE\n",
    "    sin_result = np.sin(sin_array)\n",
    "    # ABOVE GOES YOUR CODE\n",
    "    return {\"sin_result\": sin_result}\n",
    "\n",
    "numpy_35()"
   ]
  },
  {
   "cell_type": "code",
   "execution_count": 40,
   "metadata": {},
   "outputs": [
    {
     "name": "stdout",
     "output_type": "stream",
     "text": [
      "✅ Great job! Exercise completed successfully.\n"
     ]
    }
   ],
   "source": [
    "# Compute the cosine of `cos_array` with `np.cos()` and save it in `cos_result`.\n",
    "@check_numpy_36\n",
    "def numpy_36(cos_array):\n",
    "    # This line is mandatory and should not be removed.\n",
    "    ex_stat_init = True\n",
    "\n",
    "    # BELOW GOES YOUR CODE\n",
    "    cos_result = np.cos(cos_array)\n",
    "    # ABOVE GOES YOUR CODE\n",
    "    return {\"cos_result\": cos_result}\n",
    "\n",
    "numpy_36()"
   ]
  },
  {
   "cell_type": "code",
   "execution_count": 41,
   "metadata": {},
   "outputs": [
    {
     "name": "stdout",
     "output_type": "stream",
     "text": [
      "✅ Great job! Exercise completed successfully.\n"
     ]
    }
   ],
   "source": [
    "# Calculate the tangent of each element in `tan_array` using `np.tan()` and save it in `tan_result`.\n",
    "@check_numpy_37\n",
    "def numpy_37(tan_array):\n",
    "    # This line is mandatory and should not be removed.\n",
    "    ex_stat_init = True\n",
    "\n",
    "    # BELOW GOES YOUR CODE\n",
    "    tan_result = np.tan(tan_array)\n",
    "    # ABOVE GOES YOUR CODE\n",
    "    return {\"tan_result\": tan_result}\n",
    "\n",
    "numpy_37()"
   ]
  },
  {
   "cell_type": "code",
   "execution_count": 42,
   "metadata": {},
   "outputs": [
    {
     "name": "stdout",
     "output_type": "stream",
     "text": [
      "[[1 2 3]\n",
      " [4 5 6]\n",
      " [7 8 9]]\n",
      "[[1 4 7]\n",
      " [2 5 8]\n",
      " [3 6 9]]\n",
      "[[10 20 30]\n",
      " [40 50 60]\n",
      " [70 80 90]]\n",
      "[[10 40 70]\n",
      " [20 50 80]\n",
      " [30 60 90]]\n",
      "[[100 200 300]\n",
      " [400 500 600]\n",
      " [700 800 900]]\n",
      "[[100 400 700]\n",
      " [200 500 800]\n",
      " [300 600 900]]\n",
      "✅ Great job! Exercise completed successfully.\n"
     ]
    }
   ],
   "source": [
    "# Transpose the 2D array `transpose_array` using `np.transpose()` and store in `transposed_array`.\n",
    "@check_numpy_38\n",
    "def numpy_38(transpose_array):\n",
    "    # This line is mandatory and should not be removed.\n",
    "    ex_stat_init = True\n",
    "\n",
    "    # BELOW GOES YOUR CODE\n",
    "    transposed_array = np.transpose(transpose_array)\n",
    "    print(transpose_array)\n",
    "    print(transposed_array)\n",
    "     # ABOVE GOES YOUR CODE\n",
    "    return {\"transposed_array\": transposed_array}\n",
    "\n",
    "numpy_38()"
   ]
  },
  {
   "cell_type": "code",
   "execution_count": 43,
   "metadata": {},
   "outputs": [
    {
     "name": "stdout",
     "output_type": "stream",
     "text": [
      "✅ Great job! Exercise completed successfully.\n"
     ]
    }
   ],
   "source": [
    "# Compute the dot product of `vector1` and `vector2` using `np.dot()` and assign the result to `dot_product_result`.\n",
    "@check_numpy_39\n",
    "def numpy_39(vector1, vector2):\n",
    "    # This line is mandatory and should not be removed.\n",
    "    ex_stat_init = True\n",
    "\n",
    "    # BELOW GOES YOUR CODE\n",
    "    dot_product_result = np.dot(vector1, vector2)\n",
    "    # ABOVE GOES YOUR CODE\n",
    "    return {\"dot_product_result\": dot_product_result}\n",
    "\n",
    "numpy_39()"
   ]
  },
  {
   "cell_type": "code",
   "execution_count": 44,
   "metadata": {},
   "outputs": [
    {
     "name": "stdout",
     "output_type": "stream",
     "text": [
      "[[1 2]\n",
      " [3 4]]\n",
      "[[-2.   1. ]\n",
      " [ 1.5 -0.5]]\n",
      "[[10 20]\n",
      " [30 40]]\n",
      "[[-0.2   0.1 ]\n",
      " [ 0.15 -0.05]]\n",
      "[[100 200]\n",
      " [300 400]]\n",
      "[[-0.02   0.01 ]\n",
      " [ 0.015 -0.005]]\n",
      "✅ Great job! Exercise completed successfully.\n"
     ]
    }
   ],
   "source": [
    "# Calculate the inverse of the square matrix `square_matrix` using `np.linalg.inv()` and store it in `inverse_matrix`.\n",
    "@check_numpy_40\n",
    "def numpy_40(square_matrix):\n",
    "    # This line is mandatory and should not be removed.\n",
    "    ex_stat_init = True\n",
    "\n",
    "    # BELOW GOES YOUR CODE\n",
    "    inverse_matrix = np.linalg.inv(square_matrix)\n",
    "    print(square_matrix)\n",
    "    print(inverse_matrix)\n",
    "    # ABOVE GOES YOUR CODE\n",
    "    return {\"inverse_matrix\": inverse_matrix}\n",
    "\n",
    "numpy_40()"
   ]
  },
  {
   "cell_type": "code",
   "execution_count": 45,
   "metadata": {},
   "outputs": [
    {
     "name": "stdout",
     "output_type": "stream",
     "text": [
      "✅ Great job! Exercise completed successfully.\n"
     ]
    }
   ],
   "source": [
    "# Find the determinant of the square matrix `det_matrix` using `np.linalg.det()` and assign it to `determinant_value`.\n",
    "@check_numpy_41\n",
    "def numpy_41(det_matrix):\n",
    "    # This line is mandatory and should not be removed.\n",
    "    ex_stat_init = True\n",
    "\n",
    "    # BELOW GOES YOUR CODE\n",
    "    determinant_value = np.linalg.det(det_matrix)\n",
    "    # ABOVE GOES YOUR CODE\n",
    "    return {\"determinant_value\": determinant_value}\n",
    "\n",
    "numpy_41()"
   ]
  },
  {
   "cell_type": "code",
   "execution_count": 46,
   "metadata": {},
   "outputs": [
    {
     "name": "stdout",
     "output_type": "stream",
     "text": [
      "[[1 2 5 6]\n",
      " [3 4 7 8]]\n",
      "[[10 20 50 60]\n",
      " [30 40 70 80]]\n",
      "[[100 200 500 600]\n",
      " [300 400 700 800]]\n",
      "✅ Great job! Exercise completed successfully.\n"
     ]
    }
   ],
   "source": [
    "# Concatenate `array_x` and `array_y` vertically using `np.concatenate()` and save the result in `concat_vertical`.\n",
    "@check_numpy_42\n",
    "def numpy_42(array_x, array_y):\n",
    "    # This line is mandatory and should not be removed.\n",
    "    ex_stat_init = True\n",
    "\n",
    "    # BELOW GOES YOUR CODE\n",
    "    concat_vertical = np.concatenate((array_x, array_y), axis=1)\n",
    "    print(concat_vertical)\n",
    "    # ABOVE GOES YOUR CODE\n",
    "    return {\"concat_vertical\": concat_vertical}\n",
    "\n",
    "numpy_42()"
   ]
  },
  {
   "cell_type": "code",
   "execution_count": 47,
   "metadata": {},
   "outputs": [
    {
     "name": "stdout",
     "output_type": "stream",
     "text": [
      "[[1 2]\n",
      " [3 4]]\n",
      "----------\n",
      "[[5 6]\n",
      " [7 8]]\n",
      "----------\n",
      "[[1 2 5 6]\n",
      " [3 4 7 8]]\n",
      "--------------------\n",
      "[[10 20]\n",
      " [30 40]]\n",
      "----------\n",
      "[[50 60]\n",
      " [70 80]]\n",
      "----------\n",
      "[[10 20 50 60]\n",
      " [30 40 70 80]]\n",
      "--------------------\n",
      "[[100 200]\n",
      " [300 400]]\n",
      "----------\n",
      "[[500 600]\n",
      " [700 800]]\n",
      "----------\n",
      "[[100 200 500 600]\n",
      " [300 400 700 800]]\n",
      "--------------------\n",
      "✅ Great job! Exercise completed successfully.\n"
     ]
    }
   ],
   "source": [
    "# Stack `stack_array1` and `stack_array2` horizontally using `np.hstack()` and assign it to `stacked_horizontal`.\n",
    "@check_numpy_43\n",
    "def numpy_43(stack_array1, stack_array2):\n",
    "    # This line is mandatory and should not be removed.\n",
    "    ex_stat_init = True\n",
    "\n",
    "    # BELOW GOES YOUR CODE\n",
    "    stacked_horizontal = np.hstack((stack_array1, stack_array2))\n",
    "    print(stack_array1)\n",
    "    print(10 * \"-\")\n",
    "    print(stack_array2)\n",
    "    print(10 * \"-\")\n",
    "    print(stacked_horizontal)\n",
    "    print(20 * \"-\")\n",
    "    # ABOVE GOES YOUR CODE\n",
    "    return {\"stacked_horizontal\": stacked_horizontal}\n",
    "\n",
    "numpy_43()"
   ]
  },
  {
   "cell_type": "code",
   "execution_count": 48,
   "metadata": {},
   "outputs": [
    {
     "name": "stdout",
     "output_type": "stream",
     "text": [
      "[[1 2]\n",
      " [3 4]]\n",
      "----------\n",
      "5\n",
      "----------\n",
      "[[6 7]\n",
      " [8 9]]\n",
      "--------------------\n",
      "[[10 20]\n",
      " [30 40]]\n",
      "----------\n",
      "50\n",
      "----------\n",
      "[[60 70]\n",
      " [80 90]]\n",
      "--------------------\n",
      "[[100 200]\n",
      " [300 400]]\n",
      "----------\n",
      "500\n",
      "----------\n",
      "[[600 700]\n",
      " [800 900]]\n",
      "--------------------\n",
      "✅ Great job! Exercise completed successfully.\n"
     ]
    }
   ],
   "source": [
    "# Add a scalar `scalar_value` to each element of `broadcast_array` using broadcasting and store in `broadcast_result`.\n",
    "@check_numpy_44\n",
    "def numpy_44(broadcast_array, scalar_value):\n",
    "    # This line is mandatory and should not be removed.\n",
    "    ex_stat_init = True\n",
    "\n",
    "    # BELOW GOES YOUR CODE\n",
    "    broadcast_result = broadcast_array + scalar_value\n",
    "    print(broadcast_array)\n",
    "    print(10 * \"-\")\n",
    "    print(scalar_value)\n",
    "    print(10 * \"-\")\n",
    "    print(broadcast_result)\n",
    "    print(10 * \"--\")\n",
    "    # ABOVE GOES YOUR CODE\n",
    "    return {\"broadcast_result\": broadcast_result}\n",
    "\n",
    "numpy_44()"
   ]
  },
  {
   "cell_type": "code",
   "execution_count": 49,
   "metadata": {},
   "outputs": [
    {
     "name": "stdout",
     "output_type": "stream",
     "text": [
      "✅ Great job! Exercise completed successfully.\n"
     ]
    }
   ],
   "source": [
    "# Given a 1D array `small_array` and a 2D array `large_array`, utilize broadcasting to add them and store the result in `broadcast_sum`.\n",
    "@check_numpy_45\n",
    "def numpy_45(small_array, large_array):\n",
    "    # This line is mandatory and should not be removed.\n",
    "    ex_stat_init = True\n",
    "\n",
    "    # BELOW GOES YOUR CODE\n",
    "    broadcast_sum = small_array + large_array\n",
    "    # ABOVE GOES YOUR CODE\n",
    "    return {\"broadcast_sum\": broadcast_sum}\n",
    "\n",
    "numpy_45()"
   ]
  },
  {
   "cell_type": "code",
   "execution_count": 50,
   "metadata": {},
   "outputs": [
    {
     "name": "stdout",
     "output_type": "stream",
     "text": [
      "✅ Great job! Exercise completed successfully.\n"
     ]
    }
   ],
   "source": [
    "# Subtract a scalar value `scalar_sub` from each element of `two_d_array`.\n",
    "@check_numpy_46\n",
    "def numpy_46(two_d_array, scalar_sub):\n",
    "    # This line is mandatory and should not be removed.\n",
    "    ex_stat_init = True\n",
    "\n",
    "    # BELOW GOES YOUR CODE\n",
    "    two_d_array -= scalar_sub\n",
    "    # ABOVE GOES YOUR CODE\n",
    "    return {\"two_d_array\": two_d_array}\n",
    "\n",
    "numpy_46()"
   ]
  },
  {
   "cell_type": "code",
   "execution_count": 51,
   "metadata": {},
   "outputs": [
    {
     "name": "stdout",
     "output_type": "stream",
     "text": [
      "✅ Great job! Exercise completed successfully.\n"
     ]
    }
   ],
   "source": [
    "# Given dimensions `dim1`, `dim2`, and `dim3`, create a 3D NumPy array named `random_int_array` containing random integers between 0 and 10.\n",
    "@check_numpy_47\n",
    "def numpy_47(dim1, dim2, dim3):\n",
    "    # This line is mandatory and should not be removed.\n",
    "    ex_stat_init = True\n",
    "\n",
    "    # BELOW GOES YOUR CODE\n",
    "    random_int_array = np.random.randint(0, 10, size=dim1*dim2* dim3)\n",
    "    # ABOVE GOES YOUR CODE\n",
    "    return {\"random_int_array\": random_int_array}\n",
    "\n",
    "numpy_47()"
   ]
  },
  {
   "cell_type": "code",
   "execution_count": 52,
   "metadata": {},
   "outputs": [
    {
     "name": "stdout",
     "output_type": "stream",
     "text": [
      "✅ Great job! Exercise completed successfully.\n"
     ]
    }
   ],
   "source": [
    "# Convert the 2D array `multi_array` into a 1D array named `flattened`.\n",
    "@check_numpy_48\n",
    "def numpy_48(multi_array):\n",
    "    # This line is mandatory and should not be removed.\n",
    "    ex_stat_init = True\n",
    "\n",
    "    # BELOW GOES YOUR CODE\n",
    "    flattened = multi_array.flatten(\n",
    "    )\n",
    "    # ABOVE GOES YOUR CODE\n",
    "    return {\"flattened\": flattened}\n",
    "\n",
    "numpy_48()"
   ]
  },
  {
   "cell_type": "code",
   "execution_count": 53,
   "metadata": {},
   "outputs": [
    {
     "name": "stdout",
     "output_type": "stream",
     "text": [
      "✅ Great job! Exercise completed successfully.\n"
     ]
    }
   ],
   "source": [
    "# Given a NumPy array `nonzero_array`, use `np.nonzero()` to find indices of non-zero elements and assign them to `nonzero_indices`.\n",
    "@check_numpy_49\n",
    "def numpy_49(nonzero_array):\n",
    "    # This line is mandatory and should not be removed.\n",
    "    ex_stat_init = True\n",
    "\n",
    "    # BELOW GOES YOUR CODE\n",
    "    nonzero_indices = np.nonzero(nonzero_array)\n",
    "    # ABOVE GOES YOUR CODE\n",
    "    return {\"nonzero_indices\": nonzero_indices}\n",
    "\n",
    "numpy_49()"
   ]
  },
  {
   "cell_type": "code",
   "execution_count": 54,
   "metadata": {},
   "outputs": [
    {
     "name": "stdout",
     "output_type": "stream",
     "text": [
      "✅ Great job! Exercise completed successfully.\n"
     ]
    }
   ],
   "source": [
    "# Create a diagonal matrix `diagonal_matrix` with the given 1D array `diag_elements` using `np.diag()`.\n",
    "@check_numpy_50\n",
    "def numpy_50(diag_elements):\n",
    "    # This line is mandatory and should not be removed.\n",
    "    ex_stat_init = True\n",
    "\n",
    "    # BELOW GOES YOUR CODE\n",
    "    diagonal_matrix = np.diag(diag_elements)\n",
    "    # ABOVE GOES YOUR CODE\n",
    "    return {\"diagonal_matrix\": diagonal_matrix}\n",
    "\n",
    "numpy_50()"
   ]
  },
  {
   "cell_type": "code",
   "execution_count": 55,
   "metadata": {},
   "outputs": [
    {
     "name": "stdout",
     "output_type": "stream",
     "text": [
      "Condition: [ True False  True False  True]\n",
      "Conditional array: [1 2 3 4 5]\n",
      "New value: 10\n",
      "[ 1 10  3 10  5]\n",
      "Condition: [False  True False  True False]\n",
      "Conditional array: [10 20 30 40 50]\n",
      "New value: 100\n",
      "[100  20 100  40 100]\n",
      "Condition: [ True False  True False  True]\n",
      "Conditional array: [100 200 300 400 500]\n",
      "New value: 1000\n",
      "[ 100 1000  300 1000  500]\n",
      "✅ Great job! Exercise completed successfully.\n"
     ]
    }
   ],
   "source": [
    "# Update values in `conditional_array` to `new_value` where the condition `np.where_condition` is satisfied, and save it in `updated_array`.\n",
    "@check_numpy_51\n",
    "def numpy_51(conditional_array, np_where_condition, new_value):\n",
    "    # This line is mandatory and should not be removed.\n",
    "    ex_stat_init = True\n",
    "\n",
    "    # BELOW GOES YOUR CODE\n",
    "    print(f\"Condition: {np_where_condition}\")\n",
    "    print(f\"Conditional array: {conditional_array}\")\n",
    "    print(f\"New value: {new_value}\")\n",
    "    updated_array = np.where(np_where_condition,conditional_array, new_value )\n",
    "    print(updated_array)\n",
    "    # ABOVE GOES YOUR CODE\n",
    "    return {\"updated_array\": updated_array}\n",
    "\n",
    "numpy_51()"
   ]
  },
  {
   "cell_type": "code",
   "execution_count": 56,
   "metadata": {},
   "outputs": [
    {
     "name": "stdout",
     "output_type": "stream",
     "text": [
      "✅ Great job! Exercise completed successfully.\n"
     ]
    }
   ],
   "source": [
    "# Given two arrays `max_array_a` and `max_array_b`, compute the element-wise maximum and store it in `element_max`.\n",
    "@check_numpy_52\n",
    "def numpy_52(max_array_a, max_array_b):\n",
    "    # This line is mandatory and should not be removed.\n",
    "    ex_stat_init = True\n",
    "\n",
    "    # BELOW GOES YOUR CODE\n",
    "    element_max = np.maximum(max_array_a, max_array_b)\n",
    "    # ABOVE GOES YOUR CODE\n",
    "    return {\"element_max\": element_max}\n",
    "\n",
    "numpy_52()"
   ]
  },
  {
   "cell_type": "code",
   "execution_count": 57,
   "metadata": {},
   "outputs": [
    {
     "name": "stdout",
     "output_type": "stream",
     "text": [
      "✅ Great job! Exercise completed successfully.\n"
     ]
    }
   ],
   "source": [
    "# Calculate the cumulative sum of elements in `cumsum_array` and assign it to `cumulative_sum`.\n",
    "@check_numpy_53\n",
    "def numpy_53(cumsum_array):\n",
    "    # This line is mandatory and should not be removed.\n",
    "    ex_stat_init = True\n",
    "\n",
    "    # BELOW GOES YOUR CODE\n",
    "    cumulative_sum = np.cumsum(cumsum_array)\n",
    "    # ABOVE GOES YOUR CODE\n",
    "    return {\"cumulative_sum\": cumulative_sum}\n",
    "\n",
    "numpy_53()"
   ]
  },
  {
   "cell_type": "code",
   "execution_count": 58,
   "metadata": {},
   "outputs": [
    {
     "name": "stdout",
     "output_type": "stream",
     "text": [
      "✅ Great job! Exercise completed successfully.\n"
     ]
    }
   ],
   "source": [
    "# Extract unique elements from the NumPy array `unique_array` and store them in `unique_elements`.\n",
    "@check_numpy_54\n",
    "def numpy_54(unique_array):\n",
    "    # This line is mandatory and should not be removed.\n",
    "    ex_stat_init = True\n",
    "\n",
    "    # BELOW GOES YOUR CODE\n",
    "    unique_elements = np.unique(unique_array)\n",
    "    # ABOVE GOES YOUR CODE\n",
    "    return {\"unique_elements\": unique_elements}\n",
    "\n",
    "numpy_54()"
   ]
  },
  {
   "cell_type": "code",
   "execution_count": 59,
   "metadata": {},
   "outputs": [
    {
     "name": "stdout",
     "output_type": "stream",
     "text": [
      "✅ Great job! Exercise completed successfully.\n"
     ]
    }
   ],
   "source": [
    "# Sort the array `sort_array` in ascending order and assign it to `sorted_array`.\n",
    "@check_numpy_55\n",
    "def numpy_55(sort_array):\n",
    "    # This line is mandatory and should not be removed.\n",
    "    ex_stat_init = True\n",
    "\n",
    "    # BELOW GOES YOUR CODE\n",
    "    sorted_array = np.sort(sort_array)\n",
    "    # ABOVE GOES YOUR CODE\n",
    "    return {\"sorted_array\": sorted_array}\n",
    "\n",
    "numpy_55()"
   ]
  },
  {
   "cell_type": "code",
   "execution_count": 60,
   "metadata": {},
   "outputs": [
    {
     "name": "stdout",
     "output_type": "stream",
     "text": [
      "✅ Great job! Exercise completed successfully.\n"
     ]
    }
   ],
   "source": [
    "# Compute the intersection of two arrays `intersect_array1` and `intersect_array2` and save it in `intersection`.\n",
    "@check_numpy_56\n",
    "def numpy_56(intersect_array1, intersect_array2):\n",
    "    # This line is mandatory and should not be removed.\n",
    "    ex_stat_init = True\n",
    "\n",
    "    # BELOW GOES YOUR CODE\n",
    "    intersection = np.intersect1d(intersect_array1, intersect_array2)\n",
    "    # ABOVE GOES YOUR CODE\n",
    "    return {\"intersection\": intersection}\n",
    "\n",
    "numpy_56()"
   ]
  },
  {
   "cell_type": "code",
   "execution_count": 61,
   "metadata": {},
   "outputs": [
    {
     "name": "stdout",
     "output_type": "stream",
     "text": [
      "[[1 4 7]\n",
      " [2 5 8]\n",
      " [3 6 9]]\n",
      "[[10 40 70]\n",
      " [20 50 80]\n",
      " [30 60 90]]\n",
      "[[100 400 700]\n",
      " [200 500 800]\n",
      " [300 600 900]]\n",
      "✅ Great job! Exercise completed successfully.\n"
     ]
    }
   ],
   "source": [
    "# Join `join_array1`, `join_array2`, and `join_array3` along a new axis using `np.stack()` and store it in `joined_array`.\n",
    "@check_numpy_57\n",
    "def numpy_57(join_array1, join_array2, join_array3):\n",
    "    # This line is mandatory and should not be removed.\n",
    "    ex_stat_init = True\n",
    "\n",
    "    # BELOW GOES YOUR CODE\n",
    "    joined_array = np.stack((join_array1, join_array2, join_array3), axis = 1)\n",
    "    print(joined_array)\n",
    "    # ABOVE GOES YOUR CODE\n",
    "    return {\"joined_array\": joined_array}\n",
    "\n",
    "numpy_57()"
   ]
  },
  {
   "cell_type": "code",
   "execution_count": 62,
   "metadata": {},
   "outputs": [
    {
     "name": "stdout",
     "output_type": "stream",
     "text": [
      "✅ Great job! Exercise completed successfully.\n"
     ]
    }
   ],
   "source": [
    "# Split `split_array` into `num_splits` parts using `np.array_split()` and assign the result to `split_parts`.\n",
    "@check_numpy_58\n",
    "def numpy_58(split_array, num_splits):\n",
    "    # This line is mandatory and should not be removed.\n",
    "    ex_stat_init = True\n",
    "\n",
    "    # BELOW GOES YOUR CODE\n",
    "    split_parts = np.array_split(split_array, num_splits)\n",
    "    # ABOVE GOES YOUR CODE\n",
    "    return {\"split_parts\": split_parts}\n",
    "\n",
    "numpy_58()"
   ]
  },
  {
   "cell_type": "code",
   "execution_count": 63,
   "metadata": {},
   "outputs": [
    {
     "name": "stdout",
     "output_type": "stream",
     "text": [
      "2\n",
      "❗ The implementation is incorrect or the exercise was not implemented.\n"
     ]
    }
   ],
   "source": [
    "# Count elements in `count_array` that are greater than `threshold` and assign the count to `greater_count`.\n",
    "@check_numpy_59\n",
    "def numpy_59(count_array, threshold):\n",
    "    # This line is mandatory and should not be removed.\n",
    "    ex_stat_init = True\n",
    "\n",
    "    # BELOW GOES YOUR CODE\n",
    "    greater_count = np.count_nonzero(count_array > threshold)\n",
    "    print(greater_count)\n",
    "    # ABOVE GOES YOUR CODE\n",
    "    return {\"greater_count\": greater_count}\n",
    "\n",
    "numpy_59()"
   ]
  },
  {
   "cell_type": "code",
   "execution_count": 64,
   "metadata": {},
   "outputs": [
    {
     "name": "stdout",
     "output_type": "stream",
     "text": [
      "2\n"
     ]
    }
   ],
   "source": [
    "count_array= np.array([100, 200, 300, 400, 500])\n",
    "threshold = 300\n",
    "greater_count = np.count_nonzero(count_array > threshold)\n",
    "\n",
    "\n",
    "print(greater_count)"
   ]
  },
  {
   "cell_type": "code",
   "execution_count": 65,
   "metadata": {},
   "outputs": [
    {
     "name": "stdout",
     "output_type": "stream",
     "text": [
      "✅ Great job! Exercise completed successfully.\n"
     ]
    }
   ],
   "source": [
    "# Rotate the 2D array `rotate_array` 90 degrees counterclockwise using `np.rot90()` and store it in `rotated_array`.\n",
    "@check_numpy_60\n",
    "def numpy_60(rotate_array):\n",
    "    # This line is mandatory and should not be removed.\n",
    "    ex_stat_init = True\n",
    "\n",
    "    # BELOW GOES YOUR CODE\n",
    "    rotated_array = np.rot90(rotate_array)\n",
    "    # ABOVE GOES YOUR CODE\n",
    "    return {\"rotated_array\": rotated_array}\n",
    "\n",
    "numpy_60()"
   ]
  },
  {
   "cell_type": "code",
   "execution_count": 66,
   "metadata": {},
   "outputs": [
    {
     "name": "stdout",
     "output_type": "stream",
     "text": [
      "✅ Great job! Exercise completed successfully.\n"
     ]
    }
   ],
   "source": [
    "# Create an array named `random_float_array` with shape `float_shape` containing random floats between 0 and 1.\n",
    "@check_numpy_61\n",
    "def numpy_61(float_shape):\n",
    "    # This line is mandatory and should not be removed.\n",
    "    ex_stat_init = True\n",
    "\n",
    "    # BELOW GOES YOUR CODE\n",
    "    random_float_array = np.random.rand(0,1)\n",
    "    # ABOVE GOES YOUR CODE\n",
    "    return {\"random_float_array\": random_float_array}\n",
    "\n",
    "numpy_61()"
   ]
  },
  {
   "cell_type": "code",
   "execution_count": 67,
   "metadata": {},
   "outputs": [
    {
     "name": "stdout",
     "output_type": "stream",
     "text": [
      "✅ Great job! Exercise completed successfully.\n"
     ]
    }
   ],
   "source": [
    "# Compute the median of `median_array` and store it in `median_value`.\n",
    "@check_numpy_62\n",
    "def numpy_62(median_array):\n",
    "    # This line is mandatory and should not be removed.\n",
    "    ex_stat_init = True\n",
    "\n",
    "    # BELOW GOES YOUR CODE\n",
    "    median_value = np.median(median_array)\n",
    "    # ABOVE GOES YOUR CODE\n",
    "    return {\"median_value\": median_value}\n",
    "\n",
    "numpy_62()"
   ]
  },
  {
   "cell_type": "code",
   "execution_count": 68,
   "metadata": {},
   "outputs": [
    {
     "name": "stdout",
     "output_type": "stream",
     "text": [
      "✅ Great job! Exercise completed successfully.\n"
     ]
    }
   ],
   "source": [
    "# Given a complex NumPy array `complex_array`, extract its real and imaginary parts into `real_part` and `imag_part`.\n",
    "@check_numpy_63\n",
    "def numpy_63(complex_array):\n",
    "    # This line is mandatory and should not be removed.\n",
    "    ex_stat_init = True\n",
    "\n",
    "    # BELOW GOES YOUR CODE\n",
    "    real_part= np.real(complex_array)\n",
    "    imag_part = np.imag(complex_array)\n",
    "    # ABOVE GOES YOUR CODE\n",
    "    return {\"real_part\": real_part, \"imag_part\": imag_part}\n",
    "\n",
    "numpy_63()"
   ]
  },
  {
   "cell_type": "code",
   "execution_count": 69,
   "metadata": {},
   "outputs": [
    {
     "name": "stdout",
     "output_type": "stream",
     "text": [
      "Normalized array: [0.   0.25 0.5  0.75 1.  ]\n",
      "Normalized array: [0.   0.25 0.5  0.75 1.  ]\n",
      "Normalized array: [0.   0.25 0.5  0.75 1.  ]\n",
      "✅ Great job! Exercise completed successfully.\n"
     ]
    }
   ],
   "source": [
    "# Normalize the array `norm_array` to have values between 0 and 1, storing the result in `normalized_array`.\n",
    "@check_numpy_64\n",
    "def numpy_64(norm_array):\n",
    "    # This line is mandatory and should not be removed.\n",
    "    ex_stat_init = True\n",
    "\n",
    "    # BELOW GOES YOUR CODE\n",
    "    normalized_array = (norm_array-np.min(norm_array))/(np.max(norm_array)-np.min(norm_array))\n",
    "    print(f\"Normalized array: {normalized_array}\")\n",
    "    # ABOVE GOES YOUR CODE\n",
    "    return {\"normalized_array\": normalized_array}\n",
    "\n",
    "numpy_64()"
   ]
  },
  {
   "cell_type": "code",
   "execution_count": 70,
   "metadata": {},
   "outputs": [
    {
     "name": "stdout",
     "output_type": "stream",
     "text": [
      "✅ Great job! Exercise completed successfully.\n"
     ]
    }
   ],
   "source": [
    "# Replace negative elements in `replace_array` with `new_value` using `np.where()` and store in `replaced_array`.\n",
    "@check_numpy_65\n",
    "def numpy_65(replace_array, new_value):\n",
    "    # This line is mandatory and should not be removed.\n",
    "    ex_stat_init = True\n",
    "\n",
    "    # BELOW GOES YOUR CODE\n",
    "    replaced_array = np.where(replace_array > 0, replace_array, new_value)\n",
    "    # ABOVE GOES YOUR CODE\n",
    "    return {\"replaced_array\": replaced_array}\n",
    "\n",
    "numpy_65()"
   ]
  },
  {
   "cell_type": "code",
   "execution_count": 71,
   "metadata": {},
   "outputs": [
    {
     "name": "stdout",
     "output_type": "stream",
     "text": [
      "✅ Great job! Exercise completed successfully.\n"
     ]
    }
   ],
   "source": [
    "# Calculate the row-wise total sum for `axis_sum_array` and assign the output to `row_sums`.\n",
    "@check_numpy_66\n",
    "def numpy_66(axis_sum_array):\n",
    "    # This line is mandatory and should not be removed.\n",
    "    ex_stat_init = True\n",
    "\n",
    "    # BELOW GOES YOUR CODE\n",
    "    row_sums = np.sum(axis_sum_array, axis=0)\n",
    "    # ABOVE GOES YOUR CODE\n",
    "    return {\"row_sums\": row_sums}\n",
    "\n",
    "numpy_66()"
   ]
  },
  {
   "cell_type": "code",
   "execution_count": 72,
   "metadata": {},
   "outputs": [
    {
     "name": "stdout",
     "output_type": "stream",
     "text": [
      "(2, 3)\n",
      "[[97 58 75]\n",
      " [ 9 73 52]]\n",
      "(3, 4)\n",
      "[[28 39  5 64]\n",
      " [84 27 18  8]\n",
      " [27 96 12 97]]\n",
      "(4, 5)\n",
      "[[33 24 84 56  9]\n",
      " [ 2 78  6 63 51]\n",
      " [ 2 13  9 89  8]\n",
      " [72 66 81 50 82]]\n",
      "✅ Great job! Exercise completed successfully.\n"
     ]
    }
   ],
   "source": [
    "# Produce a matrix `random_matrix` with `matrix_shape` dimensions and random integers from 0 to 100.\n",
    "@check_numpy_67\n",
    "def numpy_67(matrix_shape):\n",
    "    # This line is mandatory and should not be removed.\n",
    "    ex_stat_init = True\n",
    "\n",
    "    # BELOW GOES YOUR CODE\n",
    "    print(matrix_shape)\n",
    "    random_matrix = np.random.randint(0,100, matrix_shape)\n",
    "    print(random_matrix)\n",
    "    # ABOVE GOES YOUR CODE\n",
    "    return {\"random_matrix\": random_matrix.shape, \"random_values\": np.any((random_matrix < 0) | (random_matrix > 100))}\n",
    "\n",
    "numpy_67()"
   ]
  },
  {
   "cell_type": "code",
   "execution_count": 73,
   "metadata": {},
   "outputs": [
    {
     "name": "stdout",
     "output_type": "stream",
     "text": [
      "Exp array: [1 2 3 4 5]\n",
      "Base array: [1 2 3 4 5]\n",
      "Powered array: [   1    4   27  256 3125]\n",
      "Exp array: [1 2 3 4 5]\n",
      "Base array: [10 20 30 40 50]\n",
      "Powered array: [       10       400     27000   2560000 312500000]\n",
      "Exp array: [1 2 3 4 5]\n",
      "Base array: [100 200 300 400 500]\n",
      "Powered array: [           100          40000       27000000    25600000000\n",
      " 31250000000000]\n",
      "✅ Great job! Exercise completed successfully.\n"
     ]
    }
   ],
   "source": [
    "# Raise each element in `base_power_array` to a power specified in `exp_power_array`, element-wise, and store in `powered_array`.\n",
    "@check_numpy_68\n",
    "def numpy_68(base_power_array, exp_power_array):\n",
    "    # This line is mandatory and should not be removed.\n",
    "    ex_stat_init = True\n",
    "\n",
    "    # BELOW GOES YOUR CODE\n",
    "    print(f\"Exp array: {exp_power_array}\")\n",
    "    print(f\"Base array: {base_power_array}\")\n",
    "    powered_array = base_power_array ** exp_power_array\n",
    "    print(f\"Powered array: {powered_array}\")\n",
    "    # ABOVE GOES YOUR CODE\n",
    "    return {\"powered_array\": powered_array}\n",
    "\n",
    "numpy_68()"
   ]
  },
  {
   "cell_type": "code",
   "execution_count": 74,
   "metadata": {},
   "outputs": [
    {
     "name": "stdout",
     "output_type": "stream",
     "text": [
      "✅ Great job! Exercise completed successfully.\n"
     ]
    }
   ],
   "source": [
    "# Detect NaN elements within `nan_array` using `np.isnan()` and assign the position to `nan_indices`.\n",
    "@check_numpy_69\n",
    "def numpy_69(nan_array):\n",
    "    # This line is mandatory and should not be removed.\n",
    "    ex_stat_init = True\n",
    "\n",
    "    # BELOW GOES YOUR CODE\n",
    "    nan_indices = np.isnan(nan_array)\n",
    "    # ABOVE GOES YOUR CODE\n",
    "    return {\"nan_indices\": nan_indices}\n",
    "\n",
    "numpy_69()"
   ]
  },
  {
   "cell_type": "code",
   "execution_count": 75,
   "metadata": {},
   "outputs": [
    {
     "name": "stdout",
     "output_type": "stream",
     "text": [
      "✅ Great job! Exercise completed successfully.\n"
     ]
    }
   ],
   "source": [
    "# Replace `NaN` values in `nan_replace_array` with `specific_value` and create `nan_replaced_array`.\n",
    "@check_numpy_70\n",
    "def numpy_70(nan_replace_array, specific_value):\n",
    "    # This line is mandatory and should not be removed.\n",
    "    ex_stat_init = True\n",
    "\n",
    "    # BELOW GOES YOUR CODE\n",
    "    nan_replaced_array = np.nan_to_num(nan_replace_array, specific_value)\n",
    "    # ABOVE GOES YOUR CODE\n",
    "    return {\"nan_replaced_array\": nan_replaced_array}\n",
    "\n",
    "numpy_70()"
   ]
  },
  {
   "cell_type": "code",
   "execution_count": 76,
   "metadata": {},
   "outputs": [
    {
     "name": "stdout",
     "output_type": "stream",
     "text": [
      "[[1 2 3]\n",
      " [0 5 6]\n",
      " [0 0 9]]\n",
      "[[10 20 30]\n",
      " [ 0 50 60]\n",
      " [ 0  0 90]]\n",
      "[[100 200 300]\n",
      " [  0 500 600]\n",
      " [  0   0 900]]\n",
      "✅ Great job! Exercise completed successfully.\n"
     ]
    }
   ],
   "source": [
    "# Construct an upper triangular version of `triangular_matrix` using `np.triu()`.\n",
    "@check_numpy_71\n",
    "def numpy_71(triangular_matrix):\n",
    "    # This line is mandatory and should not be removed.\n",
    "    ex_stat_init = True\n",
    "\n",
    "    # BELOW GOES YOUR CODE\n",
    "    upper_triangular = np.triu(triangular_matrix)\n",
    "    print(upper_triangular)\n",
    "    # ABOVE GOES YOUR CODE\n",
    "    return {\"upper_triangular\": upper_triangular}\n",
    "\n",
    "numpy_71()"
   ]
  },
  {
   "cell_type": "code",
   "execution_count": 77,
   "metadata": {},
   "outputs": [
    {
     "name": "stdout",
     "output_type": "stream",
     "text": [
      "50\n",
      "[1 2 3 4 5]\n",
      "3.0\n",
      "50\n",
      "[10 20 30 40 50]\n",
      "30.0\n",
      "50\n",
      "[100 200 300 400 500]\n",
      "300.0\n",
      "✅ Great job! Exercise completed successfully.\n"
     ]
    }
   ],
   "source": [
    "# Calculate the `percentile_value` percentile of elements in `percentile_array` and set the result to `percentile_result`.\n",
    "@check_numpy_72\n",
    "def numpy_72(percentile_array, percentile_value):\n",
    "    # This line is mandatory and should not be removed.\n",
    "    ex_stat_init = True\n",
    "\n",
    "    # BELOW GOES YOUR CODE\n",
    "    print(percentile_value)\n",
    "    print(percentile_array)\n",
    "    percentile_result = np.percentile(percentile_array, percentile_value)\n",
    "    print(percentile_result)\n",
    "    # ABOVE GOES YOUR CODE\n",
    "    return {\"percentile_result\": percentile_result}\n",
    "\n",
    "numpy_72()"
   ]
  },
  {
   "cell_type": "code",
   "execution_count": 78,
   "metadata": {},
   "outputs": [
    {
     "name": "stdout",
     "output_type": "stream",
     "text": [
      "✅ Great job! Exercise completed successfully.\n"
     ]
    }
   ],
   "source": [
    "# Calculate the trace (sum of diagonals) of the matrix `trace_matrix` using `np.trace()`.\n",
    "@check_numpy_73\n",
    "def numpy_73(trace_matrix):\n",
    "    # This line is mandatory and should not be removed.\n",
    "    ex_stat_init = True\n",
    "\n",
    "    # BELOW GOES YOUR CODE\n",
    "    trace_value = np.trace(trace_matrix)\n",
    "    # ABOVE GOES YOUR CODE\n",
    "    return {\"trace_value\": trace_value}\n",
    "\n",
    "numpy_73()"
   ]
  },
  {
   "cell_type": "code",
   "execution_count": 79,
   "metadata": {},
   "outputs": [
    {
     "name": "stdout",
     "output_type": "stream",
     "text": [
      "✅ Great job! Exercise completed successfully.\n"
     ]
    }
   ],
   "source": [
    "# Compute the index of the maximum value in `index_max_array` and store it in `max_index`.\n",
    "@check_numpy_74\n",
    "def numpy_74(index_max_array):\n",
    "    # This line is mandatory and should not be removed.\n",
    "    ex_stat_init = True\n",
    "\n",
    "    # BELOW GOES YOUR CODE\n",
    "    max_index = np.argmax(index_max_array)\n",
    "    max_index\n",
    "    # ABOVE GOES YOUR CODE  \n",
    "    return {\"max_index\": max_index}\n",
    "\n",
    "numpy_74()"
   ]
  },
  {
   "cell_type": "code",
   "execution_count": 80,
   "metadata": {},
   "outputs": [
    {
     "name": "stdout",
     "output_type": "stream",
     "text": [
      "✅ Great job! Exercise completed successfully.\n"
     ]
    }
   ],
   "source": [
    "# Find the index of the minimum value in `index_min_array` and assign it to `min_index`.\n",
    "@check_numpy_75\n",
    "def numpy_75(index_min_array):\n",
    "    # This line is mandatory and should not be removed.\n",
    "    ex_stat_init = True\n",
    "\n",
    "    # BELOW GOES YOUR CODE\n",
    "    min_index = np.argmin(index_min_array)\n",
    "    # ABOVE GOES YOUR CODE\n",
    "    return {\"min_index\": min_index}\n",
    "\n",
    "numpy_75()"
   ]
  },
  {
   "cell_type": "code",
   "execution_count": 81,
   "metadata": {},
   "outputs": [
    {
     "name": "stdout",
     "output_type": "stream",
     "text": [
      "✅ Great job! Exercise completed successfully.\n"
     ]
    }
   ],
   "source": [
    "# Perform an element-wise comparison of `compare_array1` and `compare_array2` using `np.equal()` and assign to `comparison_result`.\n",
    "@check_numpy_76\n",
    "def numpy_76(compare_array1, compare_array2):\n",
    "    # This line is mandatory and should not be removed.\n",
    "    ex_stat_init = True\n",
    "\n",
    "    # BELOW GOES YOUR CODE\n",
    "    comparison_result = np.equal(compare_array1, compare_array2)\n",
    "    # ABOVE GOES YOUR CODE\n",
    "    return {\"comparison_result\": comparison_result}\n",
    "\n",
    "numpy_76()"
   ]
  },
  {
   "cell_type": "code",
   "execution_count": 82,
   "metadata": {},
   "outputs": [
    {
     "name": "stdout",
     "output_type": "stream",
     "text": [
      "✅ Great job! Exercise completed successfully.\n"
     ]
    }
   ],
   "source": [
    "# Perform the matrix multiplication between two arrays `mat_mult_a` and `mat_mult_b` and store the result in `matrix_product`.\n",
    "@check_numpy_77\n",
    "def numpy_77(mat_mult_a, mat_mult_b):\n",
    "    # This line is mandatory and should not be removed.\n",
    "    ex_stat_init = True\n",
    "\n",
    "    # BELOW GOES YOUR CODE\n",
    "    matrix_product = mat_mult_a * mat_mult_b\n",
    "    # ABOVE GOES YOUR CODE\n",
    "    return {\"matrix_product\": matrix_product}\n",
    "\n",
    "numpy_77()"
   ]
  },
  {
   "cell_type": "code",
   "execution_count": 83,
   "metadata": {},
   "outputs": [
    {
     "name": "stdout",
     "output_type": "stream",
     "text": [
      "✅ Great job! Exercise completed successfully.\n"
     ]
    }
   ],
   "source": [
    "# Extract the diagonal of `diag_matrix` using `np.diag()` and store it in `matrix_diagonal`.\n",
    "@check_numpy_78\n",
    "def numpy_78(diag_matrix):\n",
    "    # This line is mandatory and should not be removed.\n",
    "    ex_stat_init = True\n",
    "\n",
    "    # BELOW GOES YOUR CODE\n",
    "    matrix_diagonal = np.diag(diag_matrix)\n",
    "    # ABOVE GOES YOUR CODE\n",
    "    return {\"matrix_diagonal\": matrix_diagonal}\n",
    "\n",
    "numpy_78()"
   ]
  },
  {
   "cell_type": "code",
   "execution_count": 84,
   "metadata": {},
   "outputs": [
    {
     "name": "stdout",
     "output_type": "stream",
     "text": [
      "[2 2 3 4 4]\n",
      "[20 20 30 40 40]\n",
      "[200 200 300 400 400]\n",
      "✅ Great job! Exercise completed successfully.\n"
     ]
    }
   ],
   "source": [
    "# Clip `clip_array` such that all its values fall between `min_clip` and `max_clip`, saving the result in `clipped_array`.\n",
    "@check_numpy_79\n",
    "def numpy_79(clip_array, min_clip, max_clip):\n",
    "    # This line is mandatory and should not be removed.\n",
    "    ex_stat_init = True\n",
    "\n",
    "    # BELOW GOES YOUR CODE\n",
    "    clipped_array = np.clip(clip_array, min_clip, max_clip)\n",
    "    print(clipped_array)\n",
    "    # ABOVE GOES YOUR CODE\n",
    "    return {\"clipped_array\": clipped_array}\n",
    "\n",
    "numpy_79()"
   ]
  },
  {
   "cell_type": "code",
   "execution_count": 85,
   "metadata": {},
   "outputs": [
    {
     "name": "stdout",
     "output_type": "stream",
     "text": [
      "✅ Great job! Exercise completed successfully.\n"
     ]
    }
   ],
   "source": [
    "# Flip `flip_array` along the specified axis `flip_axis` using `np.flip()` and assign to `flipped_array`.\n",
    "@check_numpy_80\n",
    "def numpy_80(flip_array, flip_axis):\n",
    "    # This line is mandatory and should not be removed.\n",
    "    ex_stat_init = True\n",
    "\n",
    "    # BELOW GOES YOUR CODE\n",
    "    flipped_array = np.flip(flip_array, flip_axis)\n",
    "    # ABOVE GOES YOUR CODE\n",
    "    return {\"flipped_array\": flipped_array}\n",
    "\n",
    "numpy_80()"
   ]
  },
  {
   "cell_type": "code",
   "execution_count": 86,
   "metadata": {},
   "outputs": [
    {
     "name": "stdout",
     "output_type": "stream",
     "text": [
      "[2 5 2 3 4 4 2 5 4 5]\n",
      "[4 2 5 2 3 5 3 1 4 2 3 1 4 2 2 2 4 5 3 5]\n",
      "[3 2 4 2 5 2 3 5 1 5 1 4 2 5 3 4 4 2 2 5 2 2 2 4 2 3 5 3 3 3]\n",
      "✅ Great job! Exercise completed successfully.\n"
     ]
    }
   ],
   "source": [
    "# Simulate rolling a six-sided die `num_rolls` times to generate an array `dice_rolls`.\n",
    "@check_numpy_81\n",
    "def numpy_81(num_rolls):\n",
    "    # This line is mandatory and should not be removed.\n",
    "    ex_stat_init = True\n",
    "\n",
    "    # BELOW GOES YOUR CODE\n",
    "    dice_rolls = np.random.randint(1, 6, num_rolls)\n",
    "    print(dice_rolls)\n",
    "    # ABOVE GOES YOUR CODE\n",
    "    return {\"dice_rolls\": dice_rolls}\n",
    "\n",
    "numpy_81()"
   ]
  },
  {
   "cell_type": "code",
   "execution_count": 87,
   "metadata": {},
   "outputs": [
    {
     "name": "stdout",
     "output_type": "stream",
     "text": [
      "✅ Great job! Exercise completed successfully.\n"
     ]
    }
   ],
   "source": [
    "# Given two arrays `logical_array_a` and `logical_array_b`, perform a logical `and` operation and save result in `logical_and_result`.\n",
    "@check_numpy_82\n",
    "def numpy_82(logical_array_a, logical_array_b):\n",
    "    # This line is mandatory and should not be removed.\n",
    "    ex_stat_init = True\n",
    "\n",
    "    # BELOW GOES YOUR CODE\n",
    "    logical_and_result = np.logical_and(logical_array_a,logical_array_b)\n",
    "    # ABOVE GOES YOUR CODE\n",
    "    return {\"logical_and_result\": logical_and_result}\n",
    "\n",
    "numpy_82()"
   ]
  },
  {
   "cell_type": "code",
   "execution_count": 88,
   "metadata": {},
   "outputs": [
    {
     "name": "stdout",
     "output_type": "stream",
     "text": [
      "✅ Great job! Exercise completed successfully.\n"
     ]
    }
   ],
   "source": [
    "# Reverse the elements in `reverse_array` and store the result in `reversed_array`.\n",
    "@check_numpy_83\n",
    "def numpy_83(reverse_array):\n",
    "    # This line is mandatory and should not be removed.\n",
    "    ex_stat_init = True\n",
    "\n",
    "    # BELOW GOES YOUR CODE\n",
    "    reversed_array = reverse_array[::-1]\n",
    "    # ABOVE GOES YOUR CODE\n",
    "    return {\"reversed_array\": reversed_array}\n",
    "\n",
    "numpy_83()"
   ]
  },
  {
   "cell_type": "code",
   "execution_count": 89,
   "metadata": {},
   "outputs": [
    {
     "name": "stdout",
     "output_type": "stream",
     "text": [
      "✅ Great job! Exercise completed successfully.\n"
     ]
    }
   ],
   "source": [
    "# Compute the cross-product of vectors `vector_a` and `vector_b` and store it in `cross_product_result`.\n",
    "@check_numpy_84\n",
    "def numpy_84(vector_a, vector_b):\n",
    "    # This line is mandatory and should not be removed.\n",
    "    ex_stat_init = True\n",
    "\n",
    "    # BELOW GOES YOUR CODE\n",
    "    cross_product_result = vector_a * vector_b\n",
    "    # ABOVE GOES YOUR CODE\n",
    "    return {\"cross_product_result\": cross_product_result}\n",
    "\n",
    "numpy_84()"
   ]
  },
  {
   "cell_type": "code",
   "execution_count": 90,
   "metadata": {},
   "outputs": [
    {
     "name": "stdout",
     "output_type": "stream",
     "text": [
      "✅ Great job! Exercise completed successfully.\n"
     ]
    }
   ],
   "source": [
    "# Use `np.vstack()` to vertically stack `vert_stack_a` and `vert_stack_b` and assign to `vertically_stacked`.\n",
    "@check_numpy_85\n",
    "def numpy_85(vert_stack_a, vert_stack_b):\n",
    "    # This line is mandatory and should not be removed.\n",
    "    ex_stat_init = True\n",
    "\n",
    "    # BELOW GOES YOUR CODE\n",
    "    vertically_stacked = np.vstack((vert_stack_a, vert_stack_b))\n",
    "    # ABOVE GOES YOUR CODE\n",
    "    return {\"vertically_stacked\": vertically_stacked}\n",
    "\n",
    "numpy_85()"
   ]
  },
  {
   "cell_type": "code",
   "execution_count": 91,
   "metadata": {},
   "outputs": [
    {
     "name": "stdout",
     "output_type": "stream",
     "text": [
      "[[0 1 0]\n",
      " [1 0 1]\n",
      " [0 1 0]]\n",
      "[[0 1 0 1]\n",
      " [1 0 1 0]\n",
      " [0 1 0 1]\n",
      " [1 0 1 0]]\n",
      "[[0 1 0 1 0]\n",
      " [1 0 1 0 1]\n",
      " [0 1 0 1 0]\n",
      " [1 0 1 0 1]\n",
      " [0 1 0 1 0]]\n",
      "✅ Great job! Exercise completed successfully.\n"
     ]
    }
   ],
   "source": [
    "# Create a `checkered_matrix` of size `check_size` with alternating zeros and ones.\n",
    "@check_numpy_86\n",
    "def numpy_86(check_size):\n",
    "    # This line is mandatory and should not be removed.\n",
    "    ex_stat_init = True\n",
    "\n",
    "    # BELOW GOES YOUR CODE\n",
    "    checkered_matrix = np.array([[(i+j)%2 for i in range(check_size[0])] for j in range(check_size[1])])\n",
    "    print(checkered_matrix)\n",
    "    # ABOVE GOES YOUR CODE\n",
    "    return {\"checkered_matrix\": checkered_matrix}\n",
    "\n",
    "numpy_86()"
   ]
  },
  {
   "cell_type": "code",
   "execution_count": 92,
   "metadata": {},
   "outputs": [
    {
     "name": "stdout",
     "output_type": "stream",
     "text": [
      "✅ Great job! Exercise completed successfully.\n"
     ]
    }
   ],
   "source": [
    "# Determine the rank of `rank_matrix` using `np.linalg.matrix_rank()`.\n",
    "@check_numpy_87\n",
    "def numpy_87(rank_matrix):\n",
    "    # This line is mandatory and should not be removed.\n",
    "    ex_stat_init = True\n",
    "\n",
    "    # BELOW GOES YOUR CODE\n",
    "    matrix_rank = np.linalg.matrix_rank(rank_matrix)\n",
    "    # ABOVE GOES YOUR CODE\n",
    "    return {\"matrix_rank\": matrix_rank}\n",
    "\n",
    "numpy_87()"
   ]
  },
  {
   "cell_type": "code",
   "execution_count": 93,
   "metadata": {},
   "outputs": [
    {
     "name": "stdout",
     "output_type": "stream",
     "text": [
      "[[2]\n",
      " [3]]\n",
      "[[2]\n",
      " [3]]\n",
      "[[20]\n",
      " [30]]\n",
      "[[20]\n",
      " [30]]\n",
      "[[200]\n",
      " [300]]\n",
      "[[200]\n",
      " [300]]\n",
      "✅ Great job! Exercise completed successfully.\n"
     ]
    }
   ],
   "source": [
    "# Extract all non-diagonal elements from `non_diag_matrix` and store them in `off_diagonal`.\n",
    "@check_numpy_88\n",
    "def numpy_88(non_diag_matrix):\n",
    "    # This line is mandatory and should not be removed.\n",
    "    ex_stat_init = True\n",
    "\n",
    "    # BELOW GOES YOUR CODE\n",
    "    print(non_diag_matrix[~np.eye(non_diag_matrix.shape[0],dtype=bool)].reshape(non_diag_matrix.shape[0],-1))\n",
    "    off_diagonal = non_diag_matrix[~np.eye(non_diag_matrix.shape[0],dtype=bool)].reshape(non_diag_matrix.shape[0],-1)\n",
    "    print(off_diagonal)\n",
    "    # ABOVE GOES YOUR CODE\n",
    "    return {\"off_diagonal\": off_diagonal}\n",
    "\n",
    "numpy_88()"
   ]
  },
  {
   "cell_type": "code",
   "execution_count": 94,
   "metadata": {},
   "outputs": [
    {
     "name": "stdout",
     "output_type": "stream",
     "text": [
      "✅ Great job! Exercise completed successfully.\n"
     ]
    }
   ],
   "source": [
    "# Create a boolean mask `boolean_mask` for the array `mask_less_array` with elements less than `threshold_value`.\n",
    "@check_numpy_89\n",
    "def numpy_89(mask_less_array, threshold_value):\n",
    "    # This line is mandatory and should not be removed.\n",
    "    ex_stat_init = True\n",
    "\n",
    "    # BELOW GOES YOUR CODE\n",
    "    boolean_mask = mask_less_array < threshold_value\n",
    "    # ABOVE GOES YOUR CODE\n",
    "    return {\"boolean_mask\": boolean_mask}\n",
    "\n",
    "numpy_89()"
   ]
  },
  {
   "cell_type": "code",
   "execution_count": 95,
   "metadata": {},
   "outputs": [
    {
     "name": "stdout",
     "output_type": "stream",
     "text": [
      "[1 2 3 4 5]\n",
      "[  1   2   6  24 120]\n",
      "[10 20 30 40 50]\n",
      "[      10      200     6000   240000 12000000]\n",
      "[100 200 300 400 500]\n",
      "[          100         20000       6000000    2400000000 1200000000000]\n",
      "✅ Great job! Exercise completed successfully.\n"
     ]
    }
   ],
   "source": [
    "# Compute the cumulative product of `cumprod_array` and assign the result to `cumulative_product`.\n",
    "@check_numpy_90\n",
    "def numpy_90(cumprod_array):\n",
    "    # This line is mandatory and should not be removed.\n",
    "    ex_stat_init = True\n",
    "\n",
    "    # BELOW GOES YOUR \n",
    "    print(cumprod_array)\n",
    "    cumulative_product = np.cumprod(cumprod_array)\n",
    "    print(cumulative_product)\n",
    "    # ABOVE GOES YOUR CODE\n",
    "    return {\"cumulative_product\": cumulative_product}\n",
    "\n",
    "numpy_90()"
   ]
  },
  {
   "cell_type": "code",
   "execution_count": 96,
   "metadata": {},
   "outputs": [
    {
     "name": "stdout",
     "output_type": "stream",
     "text": [
      "✅ Great job! Exercise completed successfully.\n"
     ]
    }
   ],
   "source": [
    "# Calculate the absolute differences between `abs_diff_a1` and `abs_diff_a2`, storing the result in `absolute_diff`.\n",
    "@check_numpy_91\n",
    "def numpy_91(abs_diff_a1, abs_diff_a2):\n",
    "    # This line is mandatory and should not be removed.\n",
    "    ex_stat_init = True\n",
    "\n",
    "    # BELOW GOES YOUR CODE\n",
    "    absolute_diff = abs_diff_a1 - abs_diff_a2\n",
    "    # ABOVE GOES YOUR CODE\n",
    "    return {\"absolute_diff\": absolute_diff}\n",
    "\n",
    "numpy_91()"
   ]
  },
  {
   "cell_type": "code",
   "execution_count": 97,
   "metadata": {},
   "outputs": [
    {
     "name": "stdout",
     "output_type": "stream",
     "text": [
      "✅ Great job! Exercise completed successfully.\n"
     ]
    }
   ],
   "source": [
    "# Check if `elem_equal_a` and `elem_equal_b` are element-wise equal and store the boolean result in `elementwise_equality`.\n",
    "@check_numpy_92\n",
    "def numpy_92(elem_equal_a, elem_equal_b):\n",
    "    # This line is mandatory and should not be removed.\n",
    "    ex_stat_init = True\n",
    "\n",
    "    # BELOW GOES YOUR CODE \n",
    "    elementwise_equality = np.array_equal(elem_equal_a, elem_equal_b)\n",
    "    # ABOVE GOES YOUR CODE\n",
    "    return {\"elementwise_equality\": elementwise_equality}\n",
    "\n",
    "numpy_92()"
   ]
  },
  {
   "cell_type": "code",
   "execution_count": 98,
   "metadata": {},
   "outputs": [
    {
     "name": "stdout",
     "output_type": "stream",
     "text": [
      "[5]\n",
      "[]\n",
      "[]\n",
      "✅ Great job! Exercise completed successfully.\n"
     ]
    }
   ],
   "source": [
    "# Create `filtered_within_range` by extracting values from `range_filter_array` that are between `lower_bound` and `upper_bound`.\n",
    "@check_numpy_93\n",
    "def numpy_93(range_filter_array, lower_bound, upper_bound):\n",
    "    # This line is mandatory and should not be removed.\n",
    "    ex_stat_init = True\n",
    "\n",
    "    # BELOW GOES YOUR CODE\n",
    "    filtered_within_range = range_filter_array[(range_filter_array>=5) & (range_filter_array<10)]\n",
    "\n",
    "    print(filtered_within_range)\n",
    "    # ABOVE GOES YOUR CODE\n",
    "    return {\"filtered_within_range\": filtered_within_range}\n",
    "\n",
    "numpy_93()"
   ]
  },
  {
   "cell_type": "code",
   "execution_count": 99,
   "metadata": {},
   "outputs": [
    {
     "name": "stdout",
     "output_type": "stream",
     "text": [
      "❗ The implementation is incorrect or the exercise was not implemented.\n"
     ]
    }
   ],
   "source": [
    "# Multiply a 1D array `broad_1d` with each row of a 2D array `broad_2d`, and store the result in `broadcast_mult_result`.\n",
    "@check_numpy_94\n",
    "def numpy_94(broad_1d, broad_2d):\n",
    "    # This line is mandatory and should not be removed.\n",
    "    ex_stat_init = True\n",
    "\n",
    "    # BELOW GOES YOUR CODE\n",
    "\n",
    "    # ABOVE GOES YOUR CODE\n",
    "    return {\"broadcast_mult_result\": broadcast_mult_result}\n",
    "\n",
    "numpy_94()"
   ]
  },
  {
   "cell_type": "code",
   "execution_count": 100,
   "metadata": {},
   "outputs": [
    {
     "name": "stdout",
     "output_type": "stream",
     "text": [
      "✅ Great job! Exercise completed successfully.\n"
     ]
    }
   ],
   "source": [
    "# Multiply a 1D array `broad_1d` with each row of a 2D array `broad_2d`, and store the result in `broadcast_mult_result`.\n",
    "@check_numpy_95\n",
    "def numpy_95(broad_1d, broad_2d):\n",
    "    # This line is mandatory and should not be removed.\n",
    "    ex_stat_init = True\n",
    "\n",
    "    # BELOW GOES YOUR CODE\n",
    "    broadcast_mult_result = broad_1d * broad_2d\n",
    "    # ABOVE GOES YOUR CODE\n",
    "    return {\"broadcast_mult_result\": broadcast_mult_result}\n",
    "\n",
    "numpy_95()"
   ]
  },
  {
   "cell_type": "code",
   "execution_count": 101,
   "metadata": {},
   "outputs": [
    {
     "name": "stdout",
     "output_type": "stream",
     "text": [
      "✅ Great job! Exercise completed successfully.\n"
     ]
    }
   ],
   "source": [
    "# Apply logarithm base 10 to `log10_array` using `np.log10()` and save the result in `log10_result`.\n",
    "@check_numpy_96\n",
    "def numpy_96(log10_array):\n",
    "    # This line is mandatory and should not be removed.\n",
    "    ex_stat_init = True\n",
    "\n",
    "    # BELOW GOES YOUR CODE\n",
    "    log10_result = np.log(log10_array)\n",
    "    # ABOVE GOES YOUR CODE\n",
    "    return {\"log10_result\": log10_result}\n",
    "\n",
    "numpy_96()"
   ]
  },
  {
   "cell_type": "code",
   "execution_count": 102,
   "metadata": {},
   "outputs": [
    {
     "name": "stdout",
     "output_type": "stream",
     "text": [
      "Matrix:\n",
      " [[1 2 3]\n",
      " [4 5 6]\n",
      " [7 8 9]]\n",
      "Lower triangular matrix:\n",
      " [[1 0 0]\n",
      " [4 5 0]\n",
      " [7 8 9]]\n",
      "Matrix:\n",
      " [[10 20 30]\n",
      " [40 50 60]\n",
      " [70 80 90]]\n",
      "Lower triangular matrix:\n",
      " [[10  0  0]\n",
      " [40 50  0]\n",
      " [70 80 90]]\n",
      "Matrix:\n",
      " [[100 200 300]\n",
      " [400 500 600]\n",
      " [700 800 900]]\n",
      "Lower triangular matrix:\n",
      " [[100   0   0]\n",
      " [400 500   0]\n",
      " [700 800 900]]\n",
      "✅ Great job! Exercise completed successfully.\n"
     ]
    }
   ],
   "source": [
    "# Form a lower triangular matrix from `lower_tri_matrix` using `np.tril()`.\n",
    "@check_numpy_97\n",
    "def numpy_97(lower_tri_matrix):\n",
    "    # This line is mandatory and should not be removed.\n",
    "    ex_stat_init = True\n",
    "\n",
    "    # BELOW GOES YOUR CODE\n",
    "    print(f\"Matrix:\\n {lower_tri_matrix}\")\n",
    "    lower_triangular = np.tril(lower_tri_matrix)\n",
    "    print(f\"Lower triangular matrix:\\n {lower_triangular}\")\n",
    "    # ABOVE GOES YOUR CODE\n",
    "    return {\"lower_triangular\": lower_triangular}\n",
    "\n",
    "numpy_97()"
   ]
  },
  {
   "cell_type": "code",
   "execution_count": 103,
   "metadata": {},
   "outputs": [
    {
     "name": "stdout",
     "output_type": "stream",
     "text": [
      "✅ Great job! Exercise completed successfully.\n"
     ]
    }
   ],
   "source": [
    "# Determine if there are any `True` elements in `bool_array`, assigning the result to `any_true`.\n",
    "@check_numpy_98\n",
    "def numpy_98(bool_array):\n",
    "    # This line is mandatory and should not be removed.\n",
    "    ex_stat_init = True\n",
    "\n",
    "    # BELOW GOES YOUR CODE\n",
    "    any_true = np.any(bool_array)\n",
    "    # ABOVE GOES YOUR CODE\n",
    "    return {\"any_true\": any_true}\n",
    "\n",
    "numpy_98()"
   ]
  },
  {
   "cell_type": "code",
   "execution_count": 104,
   "metadata": {},
   "outputs": [
    {
     "name": "stdout",
     "output_type": "stream",
     "text": [
      "✅ Great job! Exercise completed successfully.\n"
     ]
    }
   ],
   "source": [
    "# Check if all elements in `bool_check_array` are `True`, and store the result in `all_true`.\n",
    "@check_numpy_99\n",
    "def numpy_99(bool_check_array):\n",
    "    # This line is mandatory and should not be removed.\n",
    "    ex_stat_init = True\n",
    "\n",
    "    # BELOW GOES YOUR CODE\n",
    "    all_true = np.all(bool_check_array)\n",
    "    # ABOVE GOES YOUR CODE\n",
    "    return {\"all_true\": all_true}\n",
    "\n",
    "numpy_99()"
   ]
  },
  {
   "cell_type": "code",
   "execution_count": 105,
   "metadata": {},
   "outputs": [
    {
     "data": {
      "text/plain": [
       "np.True_"
      ]
     },
     "execution_count": 105,
     "metadata": {},
     "output_type": "execute_result"
    }
   ],
   "source": [
    "bool_check_array = np.array([0, 1, 1, 1])\n",
    "all_true = np.any(bool_check_array)\n",
    "\n",
    "all_true"
   ]
  },
  {
   "cell_type": "code",
   "execution_count": 106,
   "metadata": {},
   "outputs": [
    {
     "name": "stdout",
     "output_type": "stream",
     "text": [
      "✅ Great job! Exercise completed successfully.\n"
     ]
    }
   ],
   "source": [
    "# Given two vectors `cos_vector_a` and `cos_vector_b`, calculate the cosine similarity and store it in `cosine_similarity`.\n",
    "@check_numpy_100\n",
    "def numpy_100(cos_vector_a, cos_vector_b):\n",
    "    # This line is mandatory and should not be removed.\n",
    "    ex_stat_init = True\n",
    "\n",
    "    # BELOW GOES YOUR CODE\n",
    "    cosine_similarity = np.dot(cos_vector_a, cos_vector_b)/(np.linalg.norm(cos_vector_b)*np.linalg.norm(cos_vector_a))\n",
    "    # ABOVE GOES YOUR CODE\n",
    "    return {\"cosine_similarity\": cosine_similarity}\n",
    "\n",
    "numpy_100()"
   ]
  },
  {
   "cell_type": "code",
   "execution_count": 107,
   "metadata": {},
   "outputs": [
    {
     "name": "stdout",
     "output_type": "stream",
     "text": [
      "✅ Great job! Exercise completed successfully.\n"
     ]
    }
   ],
   "source": [
    "# Create a function named `reverse_sort_numpy` that takes a NumPy array `arr`, reverses it, removes duplicate elements using NumPy, and returns a sorted version of the array.\n",
    "@check_numpy_101\n",
    "def numpy_101():\n",
    "    # This line is mandatory and should not be removed.\n",
    "    ex_stat_init = True\n",
    "\n",
    "    # BELOW GOES YOUR CODE\n",
    "    def reverse_sort_numpy(arr):\n",
    "        arr = arr[::-1]\n",
    "        return np.unique(arr)\n",
    "\n",
    "    # ABOVE GOES YOUR CODE\n",
    "    return {\"reverse_sort_numpy\": reverse_sort_numpy}\n",
    "\n",
    "numpy_101()"
   ]
  },
  {
   "cell_type": "code",
   "execution_count": 108,
   "metadata": {},
   "outputs": [
    {
     "name": "stdout",
     "output_type": "stream",
     "text": [
      "✅ Great job! Exercise completed successfully.\n"
     ]
    }
   ],
   "source": [
    "# Write a function `normalize_scale_numpy` that takes a NumPy array `arr` and a range `min_val`, `max_val`. Use NumPy to normalize the array to the range [0, 1], then scale it to the given range, and return the resulting array.\n",
    "@check_numpy_102\n",
    "def numpy_102():\n",
    "    # This line is mandatory and should not be removed.\n",
    "    ex_stat_init = True\n",
    "\n",
    "    # BELOW GOES YOUR CODE\n",
    "    def normalize_scale_numpy(arr, min_val, max_val):\n",
    "        return (arr - min_val)/(max_val - min_val)\n",
    "    # ABOVE GOES YOUR CODE\n",
    "    return {\"normalize_scale_numpy\": normalize_scale_numpy}\n",
    "\n",
    "numpy_102()"
   ]
  },
  {
   "cell_type": "code",
   "execution_count": 109,
   "metadata": {},
   "outputs": [
    {
     "name": "stdout",
     "output_type": "stream",
     "text": [
      "✅ Great job! Exercise completed successfully.\n"
     ]
    }
   ],
   "source": [
    "# Develop a function `filter_average_numpy` that takes a NumPy array `data` and a threshold `limit`. Use NumPy to filter elements greater than `limit`, compute their average, and return this average.\n",
    "@check_numpy_103\n",
    "def numpy_103():\n",
    "    # This line is mandatory and should not be removed.\n",
    "    ex_stat_init = True\n",
    "\n",
    "    # BELOW GOES YOUR CODE\n",
    "    def filter_average_numpy(data, limit):\n",
    "        data = data >limit\n",
    "        return np.average(data)\n",
    "    # ABOVE GOES YOUR CODE\n",
    "    return {\"filter_average_numpy\": filter_average_numpy}\n",
    "\n",
    "numpy_103()"
   ]
  },
  {
   "cell_type": "code",
   "execution_count": 110,
   "metadata": {},
   "outputs": [
    {
     "name": "stdout",
     "output_type": "stream",
     "text": [
      "✅ Great job! Exercise completed successfully.\n"
     ]
    }
   ],
   "source": [
    "# Create a function `capitalize_count_numpy` that converts a NumPy array of strings `sentence_array` to capitalize each string's first letter, counts the number of elements, and returns a tuple containing the modified array and the count.\n",
    "@check_numpy_104\n",
    "def numpy_104():\n",
    "    # This line is mandatory and should not be removed.\n",
    "    ex_stat_init = True\n",
    "\n",
    "    # BELOW GOES YOUR CODE\n",
    "    def capitalize_count_numpy(sentence_array):\n",
    "        return (np.char.capitalize(sentence_array), np.count_nonzero(sentence_array))\n",
    "    # ABOVE GOES YOUR CODE\n",
    "    return {\"capitalize_count_numpy\": capitalize_count_numpy}\n",
    "\n",
    "numpy_104()"
   ]
  },
  {
   "cell_type": "code",
   "execution_count": 111,
   "metadata": {},
   "outputs": [
    {
     "name": "stdout",
     "output_type": "stream",
     "text": [
      "['apple' 'banana' 'orange' 'pear']\n",
      "{'short': 2, 'long': 2}\n",
      "['cat' 'dog' 'bird' 'fish']\n",
      "{'short': 4, 'long': 0}\n",
      "['car' 'bus' 'train' 'plane']\n",
      "{'short': 4, 'long': 0}\n",
      "✅ Great job! Exercise completed successfully.\n"
     ]
    }
   ],
   "source": [
    "# Implement a function `clean_categorize_numpy` that processes a NumPy array of strings `items` by stripping spaces and converting to lowercase with NumPy operations, classifying them into 'short' if under 5 characters or 'long' otherwise, returning the counts in a dictionary.\n",
    "@check_numpy_105\n",
    "def numpy_105():\n",
    "    # This line is mandatory and should not be removed.\n",
    "    ex_stat_init = True\n",
    "\n",
    "    # BELOW GOES YOUR CODE\n",
    "    def clean_categorize_numpy(items):\n",
    "        items = np.char.strip(np.char.lower(items))\n",
    "        print(items)\n",
    "        print({\"short\": np.count_nonzero(np.char.str_len(items )<= 5), \"long\": np.count_nonzero(np.char.str_len(items )> 5)})\n",
    "        return {\"short\": np.count_nonzero(np.char.str_len(items )<= 5), \"long\": np.count_nonzero(np.char.str_len(items )> 5)}\n",
    "\n",
    "    # ABOVE GOES YOUR CODE\n",
    "    return {\"clean_categorize_numpy\": clean_categorize_numpy}\n",
    "\n",
    "numpy_105()"
   ]
  },
  {
   "cell_type": "code",
   "execution_count": 112,
   "metadata": {},
   "outputs": [
    {
     "name": "stdout",
     "output_type": "stream",
     "text": [
      "    0\n",
      "0  10\n",
      "1  12\n",
      "2  12\n",
      "3  13\n",
      "4  12\n",
      "      0\n",
      "0     5\n",
      "1     6\n",
      "2     7\n",
      "3     8\n",
      "4  1000\n",
      "    0\n",
      "0  15\n",
      "1  16\n",
      "2  15\n",
      "3  14\n",
      "4  15\n",
      "✅ Great job! Exercise completed successfully.\n"
     ]
    },
    {
     "name": "stderr",
     "output_type": "stream",
     "text": [
      "i:\\Apps\\Anaconda Big\\envs\\excalibur\\Lib\\site-packages\\numpy\\_core\\fromnumeric.py:3800: FutureWarning: The behavior of DataFrame.std with axis=None is deprecated, in a future version this will reduce over both axes and return a scalar. To retain the old behavior, pass axis=0 (or do not pass axis)\n",
      "  return std(axis=axis, dtype=dtype, out=out, ddof=ddof, **kwargs)\n",
      "i:\\Apps\\Anaconda Big\\envs\\excalibur\\Lib\\site-packages\\numpy\\_core\\fromnumeric.py:3800: FutureWarning: The behavior of DataFrame.std with axis=None is deprecated, in a future version this will reduce over both axes and return a scalar. To retain the old behavior, pass axis=0 (or do not pass axis)\n",
      "  return std(axis=axis, dtype=dtype, out=out, ddof=ddof, **kwargs)\n",
      "i:\\Apps\\Anaconda Big\\envs\\excalibur\\Lib\\site-packages\\numpy\\_core\\fromnumeric.py:3800: FutureWarning: The behavior of DataFrame.std with axis=None is deprecated, in a future version this will reduce over both axes and return a scalar. To retain the old behavior, pass axis=0 (or do not pass axis)\n",
      "  return std(axis=axis, dtype=dtype, out=out, ddof=ddof, **kwargs)\n"
     ]
    }
   ],
   "source": [
    "\n",
    "# Write a function `remove_outliers_stats_numpy` that takes a NumPy array `num_array`, removes outliers more than two standard deviations from the mean using NumPy, and returns a dictionary with 'mean', 'std', and 'filtered' keys.\n",
    "import pandas as pd \n",
    "@check_numpy_106\n",
    "def numpy_106():\n",
    "    # This line is mandatory and should not be removed.\n",
    "    ex_stat_init = True\n",
    "\n",
    "    # BELOW GOES YOUR CODE\n",
    "    def remove_outliers_stats_numpy(num_array):\n",
    "        df =pd.DataFrame(num_array)\n",
    "        num_array_filtered = df[df.apply(lambda x :(x-x.mean()).abs()<(2*x.std()) ).all(1)]\n",
    "        print(num_array_filtered)\n",
    "        return {\"mean\": np.mean(num_array_filtered), \"std\": np.std(num_array_filtered), \"filtered\": num_array_filtered}\n",
    "        \n",
    "\n",
    "    # ABOVE GOES YOUR CODE\n",
    "    return {\"remove_outliers_stats_numpy\": remove_outliers_stats_numpy}\n",
    "\n",
    "numpy_106()"
   ]
  },
  {
   "cell_type": "code",
   "execution_count": null,
   "metadata": {},
   "outputs": [],
   "source": []
  },
  {
   "cell_type": "code",
   "execution_count": 113,
   "metadata": {},
   "outputs": [
    {
     "name": "stdout",
     "output_type": "stream",
     "text": [
      "✅ Great job! Exercise completed successfully.\n"
     ]
    }
   ],
   "source": [
    "# Create a function `unique_sorted_numpy` that accepts a NumPy array `word_arr`. Use NumPy to remove duplicates, sort them alphabetically, and return the sorted array.\n",
    "@check_numpy_107\n",
    "def numpy_107():\n",
    "    # This line is mandatory and should not be removed.\n",
    "    ex_stat_init = True\n",
    "\n",
    "    # BELOW GOES YOUR CODE\n",
    "    def unique_sorted_numpy(word_arr):\n",
    "        word_arr = np.unique(word_arr)\n",
    "        return word_arr.sort()\n",
    "    # ABOVE GOES YOUR CODE\n",
    "    return {\"unique_sorted_numpy\": unique_sorted_numpy}\n",
    "\n",
    "numpy_107()"
   ]
  },
  {
   "cell_type": "code",
   "execution_count": 114,
   "metadata": {},
   "outputs": [
    {
     "name": "stdout",
     "output_type": "stream",
     "text": [
      "['apple' 'not' 'Orange' 'peAR']\n",
      "['hi' 'there' 'WORLD']\n",
      "['sun' 'moon' 'Star']\n",
      "✅ Great job! Exercise completed successfully.\n"
     ]
    }
   ],
   "source": [
    "# Implement a function `format_join_numpy` that takes a NumPy array of strings `words_array`, uses NumPy to title case each word, filter words less than 4 characters, and joins them with a hyphen, returning the final string.\n",
    "@check_numpy_108\n",
    "def numpy_108():\n",
    "    # This line is mandatory and should not be removed.\n",
    "    ex_stat_init = True\n",
    "\n",
    "    # BELOW GOES YOUR CODE\n",
    "    def format_join_numpy(words_array):\n",
    "        print(words_array)\n",
    "        return np.char.join(np.char.title(words_array)[(np.char.str_len(np.char.title(words_array)) <= 4)],\"-\")\n",
    "    # ABOVE GOES YOUR CODE\n",
    "    return {\"format_join_numpy\": format_join_numpy}\n",
    "\n",
    "numpy_108()"
   ]
  },
  {
   "cell_type": "code",
   "execution_count": 115,
   "metadata": {},
   "outputs": [
    {
     "name": "stdout",
     "output_type": "stream",
     "text": [
      "[ 2  4 10]\n",
      "[2 3 4]\n",
      "[18]\n",
      "[11]\n",
      "[20 24]\n",
      "[ 1 19]\n",
      "✅ Great job! Exercise completed successfully.\n"
     ]
    }
   ],
   "source": [
    "# Write a function `classify_numbers_numpy` that takes a NumPy array `nums`. Use NumPy functions to detect prime numbers and separate them from non-prime numbers, returning both as arrays.\n",
    "@check_numpy_109\n",
    "def numpy_109():\n",
    "    # This line is mandatory and should not be removed.\n",
    "    ex_stat_init = True\n",
    "\n",
    "    # BELOW GOES YOUR CODE\n",
    "    def classify_numbers_numpy(nums):\n",
    "        is_prime = lambda x : x % 2 == 0 \n",
    "        is_prime = np.vectorize(is_prime)\n",
    "        non_primes = np.extract(is_prime(nums), nums)\n",
    "        print(non_primes)\n",
    "        \n",
    "        primes = np.extract(non_primes, nums)\n",
    "        print(primes)\n",
    "        return (primes, non_primes)\n",
    "        # ABOVE GOES YOUR CODE\n",
    "    return {\"classify_numbers_numpy\": classify_numbers_numpy}\n",
    "\n",
    "numpy_109()"
   ]
  },
  {
   "cell_type": "code",
   "execution_count": 116,
   "metadata": {},
   "outputs": [
    {
     "name": "stdout",
     "output_type": "stream",
     "text": [
      "✅ Great job! Exercise completed successfully.\n"
     ]
    }
   ],
   "source": [
    "# Develop a function `flatten_filter_numpy` that accepts a NumPy array of arrays `list_of_arrays`, flattens it using NumPy, filters out numbers less than 10 using NumPy, and returns the filtered flat array.\n",
    "@check_numpy_110\n",
    "def numpy_110():\n",
    "    # This line is mandatory and should not be removed.\n",
    "    ex_stat_init = True\n",
    "\n",
    "    # BELOW GOES YOUR CODE\n",
    "    def flatten_filter_numpy(list_of_arrays):\n",
    "        return list_of_arrays.flatten()[list_of_arrays.flatten() < 10]\n",
    "    # ABOVE GOES YOUR CODE\n",
    "    return {\"flatten_filter_numpy\": flatten_filter_numpy}\n",
    "\n",
    "numpy_110()"
   ]
  },
  {
   "cell_type": "code",
   "execution_count": 117,
   "metadata": {},
   "outputs": [
    {
     "name": "stdout",
     "output_type": "stream",
     "text": [
      "✅ Great job! Exercise completed successfully.\n"
     ]
    }
   ],
   "source": [
    "# Create a function `square_filter_negatives_numpy` that takes a NumPy array `arr`, squares each element using NumPy array operations, removes negative elements, and returns the resulting array.\n",
    "@check_numpy_111\n",
    "def numpy_111():\n",
    "    # This line is mandatory and should not be removed.\n",
    "    ex_stat_init = True\n",
    "\n",
    "    # BELOW GOES YOUR CODE\n",
    "    def square_filter_negatives_numpy(arr):\n",
    "        return np.square(arr)\n",
    "\n",
    "    # ABOVE GOES YOUR CODE\n",
    "    return {\"square_filter_negatives_numpy\": square_filter_negatives_numpy}\n",
    "\n",
    "numpy_111()"
   ]
  },
  {
   "cell_type": "code",
   "execution_count": 118,
   "metadata": {},
   "outputs": [
    {
     "name": "stdout",
     "output_type": "stream",
     "text": [
      "✅ Great job! Exercise completed successfully.\n"
     ]
    }
   ],
   "source": [
    "# Implement a function `divide_round_numpy` that takes a NumPy array `values` and a divisor `d`. Divide each element using NumPy, round to two decimal places, and return the resulting array.\n",
    "@check_numpy_112\n",
    "def numpy_112():\n",
    "    # This line is mandatory and should not be removed.\n",
    "    ex_stat_init = True\n",
    "\n",
    "    # BELOW GOES YOUR CODE\n",
    "    def divide_round_numpy(values, d):\n",
    "        return np.round(values /d, 2)\n",
    "    # ABOVE GOES YOUR CODE\n",
    "    return {\"divide_round_numpy\": divide_round_numpy}\n",
    "\n",
    "numpy_112()"
   ]
  },
  {
   "cell_type": "code",
   "execution_count": 119,
   "metadata": {},
   "outputs": [
    {
     "name": "stdout",
     "output_type": "stream",
     "text": [
      "✅ Great job! Exercise completed successfully.\n"
     ]
    }
   ],
   "source": [
    "# Write a function `zip_sum_numpy` that takes two NumPy arrays `array1` and `array2`, adds each corresponding element (pair) using NumPy, and returns a new array of these sums.\n",
    "@check_numpy_113\n",
    "def numpy_113():\n",
    "    # This line is mandatory and should not be removed.\n",
    "    ex_stat_init = True\n",
    "\n",
    "    # BELOW GOES YOUR CODE\n",
    "    def zip_sum_numpy(array1, array2):\n",
    "        return array1 + array2\n",
    "\n",
    "    # ABOVE GOES YOUR CODE\n",
    "    return {\"zip_sum_numpy\": zip_sum_numpy}\n",
    "\n",
    "numpy_113()"
   ]
  },
  {
   "cell_type": "code",
   "execution_count": 120,
   "metadata": {},
   "outputs": [
    {
     "name": "stdout",
     "output_type": "stream",
     "text": [
      "\n",
      "\n",
      "\n",
      "✅ Great job! Exercise completed successfully.\n"
     ]
    }
   ],
   "source": [
    "# Create a function `binary_classification_numpy` that takes an array `classes` with values `0` and `1`. Use NumPy to count each, calculate their percentages, and return a dictionary with this data.\n",
    "@check_numpy_114\n",
    "def numpy_114():\n",
    "    # This line is mandatory and should not be removed.\n",
    "    ex_stat_init = True\n",
    "\n",
    "    # BELOW GOES YOUR CODE\n",
    "    def binary_classification_numpy(classes):\n",
    "        print()\n",
    "        return {\"0\": len(classes[classes == 0])/len(classes) * 100,\"1\": len(classes[classes == 1])/len(classes) * 100}\n",
    "    # ABOVE GOES YOUR CODE\n",
    "    return {\"binary_classification_numpy\": binary_classification_numpy}\n",
    "\n",
    "numpy_114()"
   ]
  },
  {
   "cell_type": "code",
   "execution_count": 121,
   "metadata": {},
   "outputs": [
    {
     "data": {
      "text/plain": [
       "60.0"
      ]
     },
     "execution_count": 121,
     "metadata": {},
     "output_type": "execute_result"
    }
   ],
   "source": [
    "classes = np.array([0,1,0,1,0])\n",
    "len(classes[classes == 0])/len(classes) * 100"
   ]
  },
  {
   "cell_type": "code",
   "execution_count": 122,
   "metadata": {},
   "outputs": [
    {
     "name": "stdout",
     "output_type": "stream",
     "text": [
      "['12-25-2022' '01-01-2021' '11-11-2022']\n",
      "['06-15-2020' '12-24-2019' '10-31-2021']\n",
      "['09-09-2021' '02-28-2020' '07-04-2023']\n",
      "✅ Great job! Exercise completed successfully.\n"
     ]
    }
   ],
   "source": [
    "# Develop a function `parse_convert_dates_numpy` that processes a NumPy array of date strings `date_strs` in `MM/DD/YYYY` format, converting them into `YYYY-MM-DD` using NumPy, sorting them, and returning the sorted array.\n",
    "@check_numpy_115\n",
    "def numpy_115():\n",
    "    # This line is mandatory and should not be removed.\n",
    "    ex_stat_init = True\n",
    "\n",
    "    # BELOW GOES YOUR CODE\n",
    "    def parse_convert_dates_numpy(date_strs):\n",
    "        date_strs = np.array(date_strs)\n",
    "        print(np.char.replace(date_strs, \"/\", \"-\"))\n",
    "        return np.char.replace(date_strs, \"/\", \"-\")\n",
    "        \n",
    "    # ABOVE GOES YOUR CODE\n",
    "    return {\"parse_convert_dates_numpy\": parse_convert_dates_numpy}\n",
    "\n",
    "numpy_115()"
   ]
  },
  {
   "cell_type": "code",
   "execution_count": 123,
   "metadata": {},
   "outputs": [
    {
     "name": "stdout",
     "output_type": "stream",
     "text": [
      "[ 1  3  5  4  8 12]\n",
      "[ 0  7  4 10]\n",
      "[ 9 20]\n",
      "✅ Great job! Exercise completed successfully.\n"
     ]
    }
   ],
   "source": [
    "# Implement a function `interleave_double_numpy` that accepts two NumPy arrays `arr1` and `arr2`. Use NumPy to interleave elements, double elements from `arr2`, and return the final array.\n",
    "@check_numpy_116\n",
    "def numpy_116():\n",
    "    # This line is mandatory and should not be removed.\n",
    "    ex_stat_init = True\n",
    "\n",
    "    # BELOW GOES YOUR CODE\n",
    "    def interleave_double_numpy(arr1, arr2):\n",
    "        print(np.hstack([arr1,arr2*2]))\n",
    "        return np.hstack([arr1,arr2*2])\n",
    "\n",
    "    # ABOVE GOES YOUR CODE\n",
    "    return {\"interleave_double_numpy\": interleave_double_numpy}\n",
    "\n",
    "numpy_116()"
   ]
  },
  {
   "cell_type": "code",
   "execution_count": 124,
   "metadata": {},
   "outputs": [
    {
     "name": "stdout",
     "output_type": "stream",
     "text": [
      "{2: 2, 5: 2}\n",
      "{2: 2, 3: 1, 4: 2}\n",
      "{3: 3, 4: 1}\n",
      "✅ Great job! Exercise completed successfully.\n"
     ]
    }
   ],
   "source": [
    "# Write a function `group_count_numpy` that takes a NumPy array of strings `str_arr`. Use NumPy to group by length, calculate the occurrence count of each length, and return a dictionary with lengths as keys and counts as values.\n",
    "@check_numpy_117\n",
    "def numpy_117():\n",
    "    # This line is mandatory and should not be removed.\n",
    "    ex_stat_init = True\n",
    "\n",
    "    # BELOW GOES YOUR CODE\n",
    "    def group_count_numpy(str_arr):\n",
    "        arr_ = sorted(str_arr, key=len)\n",
    "        string_lengths = np.vectorize(len)(arr_)\n",
    "        lenght_dict = {}\n",
    "        for i in string_lengths:\n",
    "            i = int(i)\n",
    "            if lenght_dict.get(i) is None:\n",
    "                lenght_dict[i] = 1\n",
    "            else:\n",
    "                lenght_dict[i] +=1\n",
    "        print(lenght_dict)\n",
    "        return sorted(lenght_dict)\n",
    "        \n",
    "\n",
    "\n",
    "    # ABOVE GOES YOUR CODE\n",
    "    return {\"group_count_numpy\": group_count_numpy}\n",
    "\n",
    "numpy_117()"
   ]
  },
  {
   "cell_type": "code",
   "execution_count": 125,
   "metadata": {},
   "outputs": [
    {
     "name": "stdout",
     "output_type": "stream",
     "text": [
      "['ki', 'lol', 'ciupa']\n"
     ]
    }
   ],
   "source": [
    "\n",
    "\n",
    "def group_count_numpy(str_arr):\n",
    "        arr_ = sorted(str_arr, key=len)\n",
    "        print(arr_)\n",
    "\n",
    "\n",
    "group_count_numpy([\"lol\", \"ki\", \"ciupa\"])"
   ]
  },
  {
   "cell_type": "code",
   "execution_count": 126,
   "metadata": {},
   "outputs": [
    {
     "name": "stdout",
     "output_type": "stream",
     "text": [
      "[ True  True  True]\n",
      "[ True  True  True]\n",
      "[ True]\n",
      "✅ Great job! Exercise completed successfully.\n"
     ]
    }
   ],
   "source": [
    "# Create a function `remove_false_combine_numpy` that processes two NumPy boolean arrays `bool_arr1` and `bool_arr2`. Remove `False` entries using NumPy, concatenate them, and return the combined array.\n",
    "@check_numpy_118\n",
    "def numpy_118():\n",
    "    # This line is mandatory and should not be removed.\n",
    "    ex_stat_init = True\n",
    "\n",
    "    # BELOW GOES YOUR CODE\n",
    "    def remove_false_combine_numpy(bool_arr1, bool_arr2):\n",
    "        print(np.concat((bool_arr1[bool_arr1], bool_arr2[bool_arr2])))\n",
    "        return np.concat((bool_arr1[bool_arr1], bool_arr2[bool_arr2]))\n",
    "\n",
    "    # ABOVE GOES YOUR CODE\n",
    "    return {\"remove_false_combine_numpy\": remove_false_combine_numpy}\n",
    "\n",
    "numpy_118()"
   ]
  },
  {
   "cell_type": "code",
   "execution_count": 127,
   "metadata": {},
   "outputs": [
    {
     "ename": "ValueError",
     "evalue": "boolean array argument obj to delete must be one dimensional and match the axis length of 6",
     "output_type": "error",
     "traceback": [
      "\u001b[1;31m---------------------------------------------------------------------------\u001b[0m",
      "\u001b[1;31mValueError\u001b[0m                                Traceback (most recent call last)",
      "Cell \u001b[1;32mIn[127], line 6\u001b[0m\n\u001b[0;32m      2\u001b[0m         arr \u001b[38;5;241m=\u001b[39m np\u001b[38;5;241m.\u001b[39mdelete((bool_arr1, bool_arr2), \u001b[38;5;28;01mFalse\u001b[39;00m)\n\u001b[0;32m      3\u001b[0m         \u001b[38;5;28mprint\u001b[39m(arr)\n\u001b[1;32m----> 6\u001b[0m \u001b[43mremove_false_combine_numpy\u001b[49m\u001b[43m(\u001b[49m\u001b[43mnp\u001b[49m\u001b[38;5;241;43m.\u001b[39;49m\u001b[43marray\u001b[49m\u001b[43m(\u001b[49m\u001b[43m[\u001b[49m\u001b[38;5;124;43m\"\u001b[39;49m\u001b[38;5;124;43mTrue\u001b[39;49m\u001b[38;5;124;43m\"\u001b[39;49m\u001b[43m,\u001b[49m\u001b[43m \u001b[49m\u001b[38;5;124;43m'\u001b[39;49m\u001b[38;5;124;43mFalse\u001b[39;49m\u001b[38;5;124;43m'\u001b[39;49m\u001b[43m,\u001b[49m\u001b[43m \u001b[49m\u001b[38;5;124;43m\"\u001b[39;49m\u001b[38;5;124;43mTrue\u001b[39;49m\u001b[38;5;124;43m\"\u001b[39;49m\u001b[43m]\u001b[49m\u001b[43m)\u001b[49m\u001b[43m,\u001b[49m\u001b[43m \u001b[49m\u001b[43mnp\u001b[49m\u001b[38;5;241;43m.\u001b[39;49m\u001b[43marray\u001b[49m\u001b[43m(\u001b[49m\u001b[43m[\u001b[49m\u001b[38;5;124;43m\"\u001b[39;49m\u001b[38;5;124;43mTrue\u001b[39;49m\u001b[38;5;124;43m\"\u001b[39;49m\u001b[43m,\u001b[49m\u001b[43m \u001b[49m\u001b[38;5;124;43m'\u001b[39;49m\u001b[38;5;124;43mFalse\u001b[39;49m\u001b[38;5;124;43m'\u001b[39;49m\u001b[43m,\u001b[49m\u001b[43m \u001b[49m\u001b[38;5;124;43m\"\u001b[39;49m\u001b[38;5;124;43mTrue\u001b[39;49m\u001b[38;5;124;43m\"\u001b[39;49m\u001b[43m]\u001b[49m\u001b[43m)\u001b[49m\u001b[43m)\u001b[49m\n",
      "Cell \u001b[1;32mIn[127], line 2\u001b[0m, in \u001b[0;36mremove_false_combine_numpy\u001b[1;34m(bool_arr1, bool_arr2)\u001b[0m\n\u001b[0;32m      1\u001b[0m \u001b[38;5;28;01mdef\u001b[39;00m \u001b[38;5;21mremove_false_combine_numpy\u001b[39m(bool_arr1, bool_arr2):\n\u001b[1;32m----> 2\u001b[0m         arr \u001b[38;5;241m=\u001b[39m \u001b[43mnp\u001b[49m\u001b[38;5;241;43m.\u001b[39;49m\u001b[43mdelete\u001b[49m\u001b[43m(\u001b[49m\u001b[43m(\u001b[49m\u001b[43mbool_arr1\u001b[49m\u001b[43m,\u001b[49m\u001b[43m \u001b[49m\u001b[43mbool_arr2\u001b[49m\u001b[43m)\u001b[49m\u001b[43m,\u001b[49m\u001b[43m \u001b[49m\u001b[38;5;28;43;01mFalse\u001b[39;49;00m\u001b[43m)\u001b[49m\n\u001b[0;32m      3\u001b[0m         \u001b[38;5;28mprint\u001b[39m(arr)\n",
      "File \u001b[1;32mi:\\Apps\\Anaconda Big\\envs\\excalibur\\Lib\\site-packages\\numpy\\lib\\_function_base_impl.py:5498\u001b[0m, in \u001b[0;36mdelete\u001b[1;34m(arr, obj, axis)\u001b[0m\n\u001b[0;32m   5496\u001b[0m \u001b[38;5;28;01mif\u001b[39;00m obj\u001b[38;5;241m.\u001b[39mdtype \u001b[38;5;241m==\u001b[39m \u001b[38;5;28mbool\u001b[39m:\n\u001b[0;32m   5497\u001b[0m     \u001b[38;5;28;01mif\u001b[39;00m obj\u001b[38;5;241m.\u001b[39mshape \u001b[38;5;241m!=\u001b[39m (N,):\n\u001b[1;32m-> 5498\u001b[0m         \u001b[38;5;28;01mraise\u001b[39;00m \u001b[38;5;167;01mValueError\u001b[39;00m(\u001b[38;5;124m'\u001b[39m\u001b[38;5;124mboolean array argument obj to delete \u001b[39m\u001b[38;5;124m'\u001b[39m\n\u001b[0;32m   5499\u001b[0m                          \u001b[38;5;124m'\u001b[39m\u001b[38;5;124mmust be one dimensional and match the axis \u001b[39m\u001b[38;5;124m'\u001b[39m\n\u001b[0;32m   5500\u001b[0m                          \u001b[38;5;124m'\u001b[39m\u001b[38;5;124mlength of \u001b[39m\u001b[38;5;132;01m{}\u001b[39;00m\u001b[38;5;124m'\u001b[39m\u001b[38;5;241m.\u001b[39mformat(N))\n\u001b[0;32m   5502\u001b[0m     \u001b[38;5;66;03m# optimization, the other branch is slower\u001b[39;00m\n\u001b[0;32m   5503\u001b[0m     keep \u001b[38;5;241m=\u001b[39m \u001b[38;5;241m~\u001b[39mobj\n",
      "\u001b[1;31mValueError\u001b[0m: boolean array argument obj to delete must be one dimensional and match the axis length of 6"
     ]
    }
   ],
   "source": [
    "\n",
    "\n",
    "def remove_false_combine_numpy(bool_arr1, bool_arr2):\n",
    "        arr = np.delete((bool_arr1, bool_arr2), False)\n",
    "        print(arr)\n",
    "\n",
    "\n",
    "remove_false_combine_numpy(np.array([\"True\", 'False', \"True\"]), np.array([\"True\", 'False', \"True\"]))"
   ]
  },
  {
   "cell_type": "code",
   "execution_count": null,
   "metadata": {},
   "outputs": [
    {
     "name": "stdout",
     "output_type": "stream",
     "text": [
      "✅ Great job! Exercise completed successfully.\n"
     ]
    }
   ],
   "source": [
    "# Develop a function `check_palindrome_reverse_numpy` that takes a NumPy array of strings `strs`, uses NumPy to filter out non-alphabetic, checks for palindromes, and returns the strings in reverse order.\n",
    "@check_numpy_119\n",
    "def numpy_119():\n",
    "    # This line is mandatory and should not be removed.\n",
    "    ex_stat_init = True\n",
    "\n",
    "    # BELOW GOES YOUR CODE\n",
    "    def check_palindrome_reverse_numpy(strs):\n",
    "        \n",
    "        for i, str in zip(range(len(strs)), strs):\n",
    "            if str.isdigit():\n",
    "                try:\n",
    "                    strs = np.delete(strs, i)\n",
    "                except:\n",
    "                    break\n",
    "        temp_arr = np.array([])\n",
    "        for i, str in zip(range(len(strs)), strs):\n",
    "            if str[::-1] == str:\n",
    "                    temp_arr = np.append(temp_arr, str)\n",
    "        return temp_arr[::-1]\n",
    "            \n",
    "    # ABOVE GOES YOUR CODE\n",
    "    return {\"check_palindrome_reverse_numpy\": check_palindrome_reverse_numpy}\n",
    "\n",
    "numpy_119()"
   ]
  },
  {
   "cell_type": "code",
   "execution_count": null,
   "metadata": {},
   "outputs": [
    {
     "name": "stdout",
     "output_type": "stream",
     "text": [
      "range(0, 5)\n"
     ]
    },
    {
     "data": {
      "text/plain": [
       "array(['madam'], dtype='<U32')"
      ]
     },
     "execution_count": 387,
     "metadata": {},
     "output_type": "execute_result"
    }
   ],
   "source": [
    "strs = np.array(['madam', 'step', 'on', 'no', 'pets'])\n",
    "\n",
    "def check_palindrome_reverse_numpy(strs):\n",
    "        \n",
    "        for i, str in zip(range(len(strs)), strs):\n",
    "            if str.isdigit():\n",
    "                try:\n",
    "                    strs = np.delete(strs, i)\n",
    "                except:\n",
    "                    break\n",
    "        print(range(len(strs)))\n",
    "        temp_arr = np.array([])\n",
    "        for i, str in zip(range(len(strs)), strs):\n",
    "            if str[::-1] == str:\n",
    "                    strs = np.append(temp_arr, str)\n",
    "        return strs\n",
    "\n",
    "check_palindrome_reverse_numpy(strs)"
   ]
  },
  {
   "cell_type": "code",
   "execution_count": null,
   "metadata": {},
   "outputs": [
    {
     "name": "stdout",
     "output_type": "stream",
     "text": [
      "✅ Great job! Exercise completed successfully.\n"
     ]
    }
   ],
   "source": [
    "# Implement a function `find_duplicates_unique_numpy` that accepts a NumPy array `elements`, identifies duplicates using NumPy, separates from unique elements, and returns a tuple of duplicate and unique arrays.\n",
    "@check_numpy_120\n",
    "def numpy_120():\n",
    "    # This line is mandatory and should not be removed.\n",
    "    ex_stat_init = True\n",
    "\n",
    "    # BELOW GOES YOUR CODE\n",
    "    def find_duplicates_unique_numpy(elements):\n",
    "        filter_arr = [np.count_nonzero(elements == i)>1 for i in elements]\n",
    "        \n",
    "        return  (np.unique(elements[filter_arr]), np.setdiff1d(elements, elements[filter_arr]))\n",
    "    # ABOVE GOES YOUR CODE\n",
    "    return {\"find_duplicates_unique_numpy\": find_duplicates_unique_numpy}\n",
    "\n",
    "numpy_120()"
   ]
  },
  {
   "cell_type": "code",
   "execution_count": null,
   "metadata": {},
   "outputs": [
    {
     "name": "stdout",
     "output_type": "stream",
     "text": [
      "[True, False, False, True, True, True, True]\n",
      "[1 4]\n"
     ]
    }
   ],
   "source": [
    "import numpy as np\n",
    "\n",
    "arr = np.array([1, 2, 3,4,4,4,1])\n",
    "\n",
    "filter_arr = [np.count_nonzero(arr == i)>1 for i in arr]\n",
    "\n",
    "newarr = arr[filter_arr]\n",
    "\n",
    "print(filter_arr)\n",
    "print(np.unique(newarr))"
   ]
  },
  {
   "cell_type": "code",
   "execution_count": null,
   "metadata": {},
   "outputs": [
    {
     "name": "stdout",
     "output_type": "stream",
     "text": [
      "True\n",
      "True\n",
      "True\n",
      "✅ Great job! Exercise completed successfully.\n"
     ]
    }
   ],
   "source": [
    "# Write a function `scale_match_numpy` that takes two NumPy arrays `arr_a` and `arr_b`, scales each by their respective maximum with NumPy, and returns `True` if they are identical, otherwise `False`.\n",
    "@check_numpy_121\n",
    "def numpy_121():\n",
    "    # This line is mandatory and should not be removed.\n",
    "    ex_stat_init = True\n",
    "\n",
    "    # BELOW GOES YOUR CODE\n",
    "    def scale_match_numpy(arr_a, arr_b):\n",
    "        return np.array_equal(arr_a/np.max(arr_a),arr_b/np.max(arr_b))\n",
    "    # ABOVE GOES YOUR CODE\n",
    "    return {\"scale_match_numpy\": scale_match_numpy}\n",
    "\n",
    "numpy_121()"
   ]
  },
  {
   "cell_type": "code",
   "execution_count": null,
   "metadata": {},
   "outputs": [
    {
     "name": "stdout",
     "output_type": "stream",
     "text": [
      "[0.5 1.5 2.5]\n",
      "[1. 2. 4.]\n",
      "[1.90909091 2.         2.33333333]\n",
      "✅ Great job! Exercise completed successfully.\n"
     ]
    }
   ],
   "source": [
    "# Create a function `calculate_ratios_sort_numpy` that takes two NumPy arrays `numers` and `denoms`. Calculate ratios using NumPy, sort them, and return a new array of sorted ratios.\n",
    "@check_numpy_122\n",
    "def numpy_122():\n",
    "    # This line is mandatory and should not be removed.\n",
    "    ex_stat_init = True\n",
    "\n",
    "    # BELOW GOES YOUR CODE\n",
    "    def calculate_ratios_sort_numpy(numers, denoms):\n",
    "\n",
    "        return np.sort((numers/denoms))\n",
    "\n",
    "    # ABOVE GOES YOUR CODE\n",
    "    return {\"calculate_ratios_sort_numpy\": calculate_ratios_sort_numpy}\n",
    "\n",
    "numpy_122()"
   ]
  },
  {
   "cell_type": "code",
   "execution_count": 172,
   "metadata": {},
   "outputs": [
    {
     "name": "stdout",
     "output_type": "stream",
     "text": [
      "['is' 'test']\n",
      "['World']\n",
      "['rocks']\n",
      "✅ Great job! Exercise completed successfully.\n"
     ]
    }
   ],
   "source": [
    "# Develop a function `decode_filter_numpy` that processes a NumPy array `codes`, decodes using NumPy string operations, filters messages containing digits, and returns the cleaned array.\n",
    "@check_numpy_123\n",
    "def numpy_123():\n",
    "    # This line is mandatory and should not be removed.\n",
    "    ex_stat_init = True\n",
    "\n",
    "    # BELOW GOES YOUR CODE\n",
    "    def decode_filter_numpy(codes):\n",
    "        digits = [str(x) for x in range(10)]\n",
    "        temp_arr = np.array([])\n",
    "        for i in range(len(codes)):\n",
    "            have_digit = False\n",
    "            for char in digits:\n",
    "                if char in codes[i]:\n",
    "                    have_digit= True\n",
    "                if have_digit:\n",
    "                    break\n",
    "            if have_digit != True:\n",
    "                temp_arr = np.append(temp_arr, codes[i])\n",
    "            \n",
    "            \n",
    "        print(temp_arr)\n",
    "        return temp_arr\n",
    "    # ABOVE GOES YOUR CODE\n",
    "    return {\"decode_filter_numpy\": decode_filter_numpy}\n",
    "\n",
    "numpy_123()"
   ]
  },
  {
   "cell_type": "code",
   "execution_count": 183,
   "metadata": {},
   "outputs": [
    {
     "name": "stdout",
     "output_type": "stream",
     "text": [
      "{'b': 5, 'c': 7}\n",
      "{'y': 45}\n",
      "{'m': 15, 'n': 30}\n",
      "✅ Great job! Exercise completed successfully.\n"
     ]
    }
   ],
   "source": [
    "# Implement a function `sync_sum_json_numpy` that takes two JSON-like dictionaries `data1` and `data2`, synchronizes with NumPy by common keys, sums values, and returns the resulting dictionary.\n",
    "@check_numpy_124\n",
    "def numpy_124():\n",
    "    # This line is mandatory and should not be removed.\n",
    "    ex_stat_init = True\n",
    "\n",
    "    # BELOW GOES YOUR CODE\n",
    "    def sync_sum_json_numpy(data1, data2):\n",
    "        keys = [x for x in data1.keys() if x in data2.keys()]\n",
    "        new_dict = {}\n",
    "        for key in keys:\n",
    "            new_dict[key] = data1[key] + data2[key]\n",
    "        print(new_dict)\n",
    "        return new_dict\n",
    "        \n",
    "    # ABOVE GOES YOUR CODE\n",
    "    return {\"sync_sum_json_numpy\": sync_sum_json_numpy}\n",
    "\n",
    "numpy_124()"
   ]
  },
  {
   "cell_type": "code",
   "execution_count": null,
   "metadata": {},
   "outputs": [
    {
     "name": "stdout",
     "output_type": "stream",
     "text": [
      "✅ Great job! Exercise completed successfully.\n"
     ]
    }
   ],
   "source": [
    "# Write a function `tokenize_compare_numpy` that takes two NumPy string arrays `para1` and `para2`, tokenizes using NumPy, calculates the set difference with NumPy, and returns a list of unique words in one array.\n",
    "@check_numpy_125\n",
    "def numpy_125():\n",
    "    # This line is mandatory and should not be removed.\n",
    "    ex_stat_init = True\n",
    "\n",
    "    # BELOW GOES YOUR CODE\n",
    "    def tokenize_compare_numpy(para1, para2): \n",
    "        print(np.setdiff1d(np.unique(np.concatenate([line.split() for line in para1])), np.unique(np.concatenate([line.split() for line in para2]))))\n",
    "        return np.setdiff1d(np.unique(np.concatenate([line.split() for line in para1])), np.unique(np.concatenate([line.split() for line in para2])))\n",
    "    # ABOVE GOES YOUR CODE\n",
    "    return {\"tokenize_compare_numpy\": tokenize_compare_numpy}\n",
    "\n",
    "numpy_125()"
   ]
  }
 ],
 "metadata": {
  "kernelspec": {
   "display_name": "excalibur",
   "language": "python",
   "name": "python3"
  },
  "language_info": {
   "codemirror_mode": {
    "name": "ipython",
    "version": 3
   },
   "file_extension": ".py",
   "mimetype": "text/x-python",
   "name": "python",
   "nbconvert_exporter": "python",
   "pygments_lexer": "ipython3",
   "version": "3.12.6"
  }
 },
 "nbformat": 4,
 "nbformat_minor": 2
}
