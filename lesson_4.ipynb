{
 "cells": [
  {
   "cell_type": "code",
   "execution_count": 102,
   "metadata": {},
   "outputs": [],
   "source": [
    "import numpy as np\n",
    "import time, sys"
   ]
  },
  {
   "cell_type": "code",
   "execution_count": 103,
   "metadata": {},
   "outputs": [
    {
     "name": "stdout",
     "output_type": "stream",
     "text": [
      "[2, 4, 6, 8, 10]\n"
     ]
    }
   ],
   "source": [
    "numbers = [1,2,3,4,5]\n",
    "res = [element1 + element2 for element1, element2 in zip(numbers, numbers)]\n",
    "print(res)"
   ]
  },
  {
   "cell_type": "code",
   "execution_count": 104,
   "metadata": {},
   "outputs": [
    {
     "name": "stdout",
     "output_type": "stream",
     "text": [
      "[2 4 6 8]\n"
     ]
    }
   ],
   "source": [
    "array = np.array([1,2,3,4])\n",
    "result = array + array\n",
    "print(result)"
   ]
  },
  {
   "cell_type": "code",
   "execution_count": 1,
   "metadata": {},
   "outputs": [
    {
     "ename": "NameError",
     "evalue": "name 'np' is not defined",
     "output_type": "error",
     "traceback": [
      "\u001b[1;31m---------------------------------------------------------------------------\u001b[0m",
      "\u001b[1;31mNameError\u001b[0m                                 Traceback (most recent call last)",
      "Cell \u001b[1;32mIn[1], line 1\u001b[0m\n\u001b[1;32m----> 1\u001b[0m \u001b[38;5;28mprint\u001b[39m(\u001b[43mnp\u001b[49m\u001b[38;5;241m.\u001b[39mint8(\u001b[38;5;241m42\u001b[39m))\n\u001b[0;32m      2\u001b[0m \u001b[38;5;28mprint\u001b[39m(np\u001b[38;5;241m.\u001b[39mint16(\u001b[38;5;241m42\u001b[39m))\n\u001b[0;32m      3\u001b[0m \u001b[38;5;28mprint\u001b[39m(np\u001b[38;5;241m.\u001b[39mint64(\u001b[38;5;241m42\u001b[39m))\n",
      "\u001b[1;31mNameError\u001b[0m: name 'np' is not defined"
     ]
    }
   ],
   "source": [
    "print(np.int8(42))\n",
    "print(np.int16(42))\n",
    "print(np.int64(42))\n",
    "\n",
    "print(np.float16(42))\n",
    "print(np.float32(42))\n",
    "print(np.float64(42))\n",
    "\n",
    "print(np.complex64(42+42j))\n",
    "\n",
    "print(np.bool_(True))"
   ]
  },
  {
   "cell_type": "code",
   "execution_count": 106,
   "metadata": {},
   "outputs": [
    {
     "name": "stdout",
     "output_type": "stream",
     "text": [
      "List time is: 0.909343957901001\n",
      "List time is: 0.027788639068603516\n"
     ]
    }
   ],
   "source": [
    "my_list = list(range(10000000))\n",
    "start_time = time.time()\n",
    "new_list = [element * 2 for element in my_list]\n",
    "print(f\"List time is: {time.time()-start_time}\")\n",
    "\n",
    "my_array = np.arange(10000000)\n",
    "start_time = time.time()\n",
    "new_array = my_array * 2\n",
    "print(f\"List time is: {time.time()-start_time}\")\n"
   ]
  },
  {
   "cell_type": "code",
   "execution_count": 107,
   "metadata": {},
   "outputs": [
    {
     "name": "stdout",
     "output_type": "stream",
     "text": [
      "80000056\n",
      "80000112\n"
     ]
    }
   ],
   "source": [
    "print(sys.getsizeof(my_list))\n",
    "print(sys.getsizeof(my_array))"
   ]
  },
  {
   "cell_type": "code",
   "execution_count": 108,
   "metadata": {},
   "outputs": [
    {
     "name": "stdout",
     "output_type": "stream",
     "text": [
      "List time is: 0.0010144710540771484\n",
      "List time is: 0.0010654926300048828\n",
      "100112\n",
      "800112\n"
     ]
    }
   ],
   "source": [
    "array_8bit = np.arange(100000, dtype=np.int8)\n",
    "array_64bit = np.arange(100000, dtype=np.int64)\n",
    "my_list = list(range(10000000))\n",
    "start_time = time.time()\n",
    "modified = array_8bit * 2\n",
    "print(f\"List time is: {time.time()-start_time}\")\n",
    "start_time = time.time()\n",
    "modified = array_64bit * 2\n",
    "print(f\"List time is: {time.time()-start_time}\")\n",
    "print(sys.getsizeof(array_8bit))\n",
    "print(sys.getsizeof(array_64bit))"
   ]
  },
  {
   "cell_type": "code",
   "execution_count": 109,
   "metadata": {},
   "outputs": [
    {
     "name": "stdout",
     "output_type": "stream",
     "text": [
      "Shape:  (4,)\n"
     ]
    }
   ],
   "source": [
    "arr_1d = np.array([1,2,3,4])\n",
    "print(\"Shape: \", arr_1d.shape)"
   ]
  },
  {
   "cell_type": "code",
   "execution_count": 110,
   "metadata": {},
   "outputs": [
    {
     "name": "stdout",
     "output_type": "stream",
     "text": [
      "Shape:  (2, 2)\n"
     ]
    }
   ],
   "source": [
    "arr_2d = np.array([[1,2],[3,4]])\n",
    "print(\"Shape: \", arr_2d.shape)"
   ]
  },
  {
   "cell_type": "code",
   "execution_count": 111,
   "metadata": {},
   "outputs": [
    {
     "name": "stdout",
     "output_type": "stream",
     "text": [
      "Shape:  (2, 2, 2)\n"
     ]
    }
   ],
   "source": [
    "arr_3d = np.array([[[1,2],[3,4]], [[5,6],[7,8]]])\n",
    "print(\"Shape: \", arr_3d.shape)"
   ]
  },
  {
   "cell_type": "code",
   "execution_count": 112,
   "metadata": {},
   "outputs": [
    {
     "name": "stdout",
     "output_type": "stream",
     "text": [
      "[1 2 3 4 5 6 7 8]\n",
      "(8,)\n",
      "[[1 2 3 4]\n",
      " [5 6 7 8]]\n",
      "[[[1 2]\n",
      "  [3 4]]\n",
      "\n",
      " [[5 6]\n",
      "  [7 8]]]\n"
     ]
    }
   ],
   "source": [
    "arr = np.array([1,2,3,4,5,6,7,8])\n",
    "\n",
    "print(arr)\n",
    "print(arr.shape)\n",
    "arr_2 = arr.reshape(2, 4)\n",
    "print(arr_2)\n",
    "arr_3 = arr.reshape(2, 2, 2)\n",
    "print(arr_3)"
   ]
  },
  {
   "cell_type": "code",
   "execution_count": 113,
   "metadata": {},
   "outputs": [
    {
     "data": {
      "text/plain": [
       "array([[-0.83973202, -0.98009647, -2.09262576, -2.49207651],\n",
       "       [ 1.31198299,  0.48766179,  0.86933323, -0.80783559],\n",
       "       [ 1.04124963,  0.57147917,  0.60800317,  1.07405705],\n",
       "       [-0.31536854, -1.01467101,  0.41692323,  0.36366576],\n",
       "       [ 1.30126433, -0.54990517,  2.15903492, -0.2503124 ],\n",
       "       [-0.06716279,  0.74585612,  0.39366993, -0.67902118],\n",
       "       [ 0.89651249,  1.44999386, -2.04828877, -0.26262603],\n",
       "       [ 0.85656524,  0.29407378,  0.43989208,  0.49383533],\n",
       "       [-0.17042053,  0.820872  ,  1.55616644, -1.06488223],\n",
       "       [-0.58760606,  0.18692918,  0.41384272, -0.47496274],\n",
       "       [-0.03036431, -1.09778308, -1.07491364, -0.25601854],\n",
       "       [-0.47605894, -0.55566541, -1.11724763, -0.11774346],\n",
       "       [ 0.48280868,  0.33280241,  0.19489039,  0.62085096],\n",
       "       [-1.05802466, -0.32387011, -0.06553726,  0.96099321],\n",
       "       [-1.68802916, -0.5193443 ,  1.99711501,  0.74225996]])"
      ]
     },
     "execution_count": 113,
     "metadata": {},
     "output_type": "execute_result"
    }
   ],
   "source": [
    "np.arange(0, 10,2) #Works like range in python\n",
    "np.linspace(10, 50, 30) #\n",
    "np.zeros((2, 3)) #Creates an array from a tuple with 0\n",
    "np.ones(((3,4 )))#Creates an array from a tuple with 1\n",
    "np.eye(7)#input the size of the array, createa a matrice de indentitate\n",
    "np.random.rand(4, 15)# input the number of rows an columns\n",
    "np.random.randn(15, 4)# input the number of rows an columns, using normal distribution"
   ]
  },
  {
   "cell_type": "code",
   "execution_count": 114,
   "metadata": {},
   "outputs": [
    {
     "data": {
      "text/plain": [
       "(15, 4, 3, 3, 3, 3, 3, 3, 3, 3)"
      ]
     },
     "execution_count": 114,
     "metadata": {},
     "output_type": "execute_result"
    }
   ],
   "source": [
    "ceva = np.random.randn(15, 4,3,3,3,3,3, 3,3 ,3 )\n",
    "ceva.shape"
   ]
  },
  {
   "cell_type": "code",
   "execution_count": 115,
   "metadata": {},
   "outputs": [
    {
     "data": {
      "text/plain": [
       "8"
      ]
     },
     "execution_count": 115,
     "metadata": {},
     "output_type": "execute_result"
    }
   ],
   "source": [
    "ceva.ndim # number of dimensions \n",
    "ceva.size # number of elements in an arry\n",
    "ceva.dtype # return the array type\n",
    "ceva.itemsize #numarul de biti "
   ]
  },
  {
   "cell_type": "code",
   "execution_count": 116,
   "metadata": {},
   "outputs": [
    {
     "name": "stdout",
     "output_type": "stream",
     "text": [
      "2\n",
      "7\n",
      "[3 4]\n"
     ]
    }
   ],
   "source": [
    "altceva = np.array([1,2,3,4,5,6,7])\n",
    "print(altceva[1])\n",
    "print(altceva[-1])\n",
    "print(altceva[2:-3])"
   ]
  },
  {
   "cell_type": "code",
   "execution_count": 117,
   "metadata": {},
   "outputs": [
    {
     "name": "stdout",
     "output_type": "stream",
     "text": [
      "7\n"
     ]
    }
   ],
   "source": [
    "altceva = np.array([[1,2,3,4], [5,6,7,8]])\n",
    "\n",
    "print(altceva[1,2])\n"
   ]
  },
  {
   "cell_type": "code",
   "execution_count": 118,
   "metadata": {},
   "outputs": [
    {
     "name": "stdout",
     "output_type": "stream",
     "text": [
      "[[False False False  True]\n",
      " [ True  True  True  True]]\n"
     ]
    },
    {
     "data": {
      "text/plain": [
       "array([4, 5, 6, 7, 8])"
      ]
     },
     "execution_count": 118,
     "metadata": {},
     "output_type": "execute_result"
    }
   ],
   "source": [
    "mask = altceva >3\n",
    "print(mask)\n",
    "altceva[mask]"
   ]
  },
  {
   "cell_type": "code",
   "execution_count": 119,
   "metadata": {},
   "outputs": [
    {
     "name": "stdout",
     "output_type": "stream",
     "text": [
      "[0 0 0 0 0 0 0]\n",
      "[ 2  4  6  8 10 12 14]\n",
      "[ 1  4  9 16 25 36 49]\n",
      "[1. 1. 1. 1. 1. 1. 1.]\n",
      "[     1      4     27    256   3125  46656 823543]\n"
     ]
    }
   ],
   "source": [
    "arr1 = np.array([1,2,3,4,5,6,7])\n",
    "arr2 = np.array([1,2,3,4,5,6,7])\n",
    "\n",
    "print(arr1-arr2)\n",
    "print(arr1+arr2)\n",
    "print(arr1*arr2)\n",
    "print(arr1/arr2)\n",
    "print(arr1**arr2)"
   ]
  },
  {
   "cell_type": "code",
   "execution_count": 120,
   "metadata": {},
   "outputs": [
    {
     "name": "stdout",
     "output_type": "stream",
     "text": [
      "8\n",
      "8\n",
      "[4 8]\n"
     ]
    }
   ],
   "source": [
    "alt = np.array([[1,2,3,4], [5,6,7,8]])\n",
    "print(np.max(alt))\n",
    "print(alt.max())\n",
    "print(alt.max(axis=1))"
   ]
  },
  {
   "cell_type": "markdown",
   "metadata": {},
   "source": [
    "# Arrat wide operations\n"
   ]
  },
  {
   "cell_type": "code",
   "execution_count": 121,
   "metadata": {},
   "outputs": [
    {
     "name": "stdout",
     "output_type": "stream",
     "text": [
      "8\n",
      "1\n",
      "4.5\n",
      "36\n",
      "2.29128784747792\n"
     ]
    }
   ],
   "source": [
    "print(alt.max())\n",
    "print(alt.min())\n",
    "print(alt.mean())\n",
    "print(alt.sum())\n",
    "print(alt.std())"
   ]
  },
  {
   "cell_type": "code",
   "execution_count": 139,
   "metadata": {},
   "outputs": [
    {
     "data": {
      "text/plain": [
       "array([[ 7, 10],\n",
       "       [15, 22]])"
      ]
     },
     "execution_count": 139,
     "metadata": {},
     "output_type": "execute_result"
    }
   ],
   "source": [
    "a = np.array(([1,2],[3,4]))\n",
    "b = np.array(([1,2],[3,4]))\n",
    "np.dot(a, b)"
   ]
  },
  {
   "cell_type": "code",
   "execution_count": 130,
   "metadata": {},
   "outputs": [
    {
     "data": {
      "text/plain": [
       "array([[ 0.84147098,  0.90929743],\n",
       "       [ 0.14112001, -0.7568025 ]])"
      ]
     },
     "execution_count": 130,
     "metadata": {},
     "output_type": "execute_result"
    }
   ],
   "source": [
    "np.sqrt(a)\n",
    "np.exp(a)\n",
    "np.log(a)\n",
    "np.cos(a)\n",
    "np.sin(a)\n"
   ]
  },
  {
   "cell_type": "code",
   "execution_count": 132,
   "metadata": {},
   "outputs": [
    {
     "data": {
      "text/plain": [
       "array([[-2. ,  1. ],\n",
       "       [ 1.5, -0.5]])"
      ]
     },
     "execution_count": 132,
     "metadata": {},
     "output_type": "execute_result"
    }
   ],
   "source": [
    "inv_a = np.linalg.inv(a)\n",
    "print(np.dot(a, inv_a))"
   ]
  },
  {
   "cell_type": "code",
   "execution_count": 140,
   "metadata": {},
   "outputs": [
    {
     "name": "stdout",
     "output_type": "stream",
     "text": [
      "-2.0000000000000004\n"
     ]
    }
   ],
   "source": [
    "det_a = np.linalg.det(a)\n",
    "print(det_a)"
   ]
  },
  {
   "cell_type": "code",
   "execution_count": 135,
   "metadata": {},
   "outputs": [
    {
     "data": {
      "text/plain": [
       "array([[1, 2],\n",
       "       [3, 4],\n",
       "       [1, 2],\n",
       "       [3, 4]])"
      ]
     },
     "execution_count": 135,
     "metadata": {},
     "output_type": "execute_result"
    }
   ],
   "source": [
    "result = np.concatenate((a, b), axis=0)\n",
    "result"
   ]
  },
  {
   "cell_type": "code",
   "execution_count": 143,
   "metadata": {},
   "outputs": [
    {
     "data": {
      "text/plain": [
       "array([[1, 2, 1, 2],\n",
       "       [3, 4, 3, 4]])"
      ]
     },
     "execution_count": 143,
     "metadata": {},
     "output_type": "execute_result"
    }
   ],
   "source": [
    "result = np.hstack((a, b))\n",
    "result"
   ]
  },
  {
   "cell_type": "code",
   "execution_count": 148,
   "metadata": {},
   "outputs": [
    {
     "name": "stdout",
     "output_type": "stream",
     "text": [
      "a array:\n",
      "[[1 2]\n",
      " [3 4]]\n",
      "c array:\n",
      "4\n",
      "a + c array:\n",
      "[[5 6]\n",
      " [7 8]]\n"
     ]
    }
   ],
   "source": [
    "c = np.array((4))\n",
    "print(\"a array:\")\n",
    "print(a)\n",
    "print(\"c array:\")\n",
    "print(c)\n",
    "print(\"a + c array:\")\n",
    "print(a + c)"
   ]
  },
  {
   "cell_type": "code",
   "execution_count": 150,
   "metadata": {},
   "outputs": [
    {
     "name": "stdout",
     "output_type": "stream",
     "text": [
      "[1 2 3]\n",
      "[[1 2 3]]\n"
     ]
    }
   ],
   "source": [
    "arr1 = np.array([1,2,3])\n",
    "\n",
    "reshapearr1 = arr1.reshape([1,3])\n",
    "\n",
    "print(arr1)\n",
    "print(reshapearr1)"
   ]
  },
  {
   "cell_type": "code",
   "execution_count": 151,
   "metadata": {},
   "outputs": [
    {
     "name": "stdout",
     "output_type": "stream",
     "text": [
      "[[2 4 6]]\n",
      "[[2 4 6]]\n"
     ]
    }
   ],
   "source": [
    "print(arr1 + reshapearr1)\n",
    "print(reshapearr1 + arr1)"
   ]
  },
  {
   "cell_type": "code",
   "execution_count": null,
   "metadata": {},
   "outputs": [],
   "source": []
  }
 ],
 "metadata": {
  "kernelspec": {
   "display_name": "excalibur",
   "language": "python",
   "name": "python3"
  },
  "language_info": {
   "codemirror_mode": {
    "name": "ipython",
    "version": 3
   },
   "file_extension": ".py",
   "mimetype": "text/x-python",
   "name": "python",
   "nbconvert_exporter": "python",
   "pygments_lexer": "ipython3",
   "version": "3.12.5"
  }
 },
 "nbformat": 4,
 "nbformat_minor": 2
}
