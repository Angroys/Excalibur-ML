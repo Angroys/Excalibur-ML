{
 "cells": [
  {
   "cell_type": "code",
   "execution_count": 2,
   "metadata": {},
   "outputs": [
    {
     "name": "stdout",
     "output_type": "stream",
     "text": [
      "Collecting opencv-python\n",
      "  Using cached opencv_python-4.10.0.84-cp37-abi3-win_amd64.whl.metadata (20 kB)\n",
      "Requirement already satisfied: numpy>=1.21.2 in i:\\apps\\anaconda big\\envs\\excalibur\\lib\\site-packages (from opencv-python) (2.1.1)\n",
      "Using cached opencv_python-4.10.0.84-cp37-abi3-win_amd64.whl (38.8 MB)\n",
      "Installing collected packages: opencv-python\n",
      "Successfully installed opencv-python-4.10.0.84\n",
      "Note: you may need to restart the kernel to use updated packages.\n"
     ]
    }
   ],
   "source": [
    "pip install opencv-python"
   ]
  },
  {
   "cell_type": "code",
   "execution_count": 1,
   "metadata": {},
   "outputs": [],
   "source": [
    "import cv2\n",
    "import numpy as np"
   ]
  },
  {
   "cell_type": "code",
   "execution_count": 143,
   "metadata": {},
   "outputs": [
    {
     "name": "stdout",
     "output_type": "stream",
     "text": [
      "<class 'numpy.uint8'>\n"
     ]
    }
   ],
   "source": [
    "image = cv2.imread(\"mario.jpg\", cv2.IMREAD_COLOR)\n",
    "print(type(image[0][0][0]))\n",
    "cv2.imshow(\"image\", image)\n",
    "cv2.waitKey(0)#Can Kill the window by pressig 0\n",
    "cv2.destroyAllWindows() #Destroys the windows"
   ]
  },
  {
   "cell_type": "code",
   "execution_count": 5,
   "metadata": {},
   "outputs": [
    {
     "data": {
      "text/plain": [
       "array([[[255, 255, 255],\n",
       "        [255, 255, 255],\n",
       "        [255, 255, 255],\n",
       "        ...,\n",
       "        [255, 255, 255],\n",
       "        [255, 255, 255],\n",
       "        [255, 255, 255]],\n",
       "\n",
       "       [[255, 255, 255],\n",
       "        [255, 255, 255],\n",
       "        [255, 255, 255],\n",
       "        ...,\n",
       "        [255, 255, 255],\n",
       "        [255, 255, 255],\n",
       "        [255, 255, 255]],\n",
       "\n",
       "       [[255, 255, 255],\n",
       "        [255, 255, 255],\n",
       "        [255, 255, 255],\n",
       "        ...,\n",
       "        [255, 255, 255],\n",
       "        [255, 255, 255],\n",
       "        [255, 255, 255]],\n",
       "\n",
       "       ...,\n",
       "\n",
       "       [[255, 255, 255],\n",
       "        [255, 255, 255],\n",
       "        [255, 255, 255],\n",
       "        ...,\n",
       "        [255, 255, 255],\n",
       "        [255, 255, 255],\n",
       "        [255, 255, 255]],\n",
       "\n",
       "       [[255, 255, 255],\n",
       "        [255, 255, 255],\n",
       "        [255, 255, 255],\n",
       "        ...,\n",
       "        [255, 255, 255],\n",
       "        [255, 255, 255],\n",
       "        [255, 255, 255]],\n",
       "\n",
       "       [[255, 255, 255],\n",
       "        [255, 255, 255],\n",
       "        [255, 255, 255],\n",
       "        ...,\n",
       "        [255, 255, 255],\n",
       "        [255, 255, 255],\n",
       "        [255, 255, 255]]], dtype=uint8)"
      ]
     },
     "execution_count": 5,
     "metadata": {},
     "output_type": "execute_result"
    }
   ],
   "source": [
    "image"
   ]
  },
  {
   "cell_type": "code",
   "execution_count": 9,
   "metadata": {},
   "outputs": [],
   "source": [
    "main_arr = np.array([\n",
    "    [1,0,1,0,1,0],\n",
    "    [1,0,1,0,1,0],\n",
    "    [1,0,1,0,1,0],\n",
    "    [1,0,1,0,1,0],\n",
    "    [1,0,1,0,1,0],\n",
    "    [1,0,1,0,1,0]\n",
    "])\n",
    "\n",
    "filter_arr = np.array([\n",
    "    [1/9,1/9,1/9],\n",
    "    [1/9,1/9,1/9],\n",
    "    [1/9,1/9,1/9]\n",
    "])"
   ]
  },
  {
   "cell_type": "code",
   "execution_count": 128,
   "metadata": {},
   "outputs": [],
   "source": [
    "def compute_filter(image_array, filter_arr):\n",
    "    col_in, row_in, cor_in = image_array.shape\n",
    "    col_fil, row_fil = filter_arr.shape\n",
    "    col_out = col_in-col_fil + 1\n",
    "    row_out = row_in - row_fil + 1\n",
    "    cor_out = cor_in\n",
    "    result = np.array([])\n",
    "    for i in range(col_out):\n",
    "        for j in range(row_out):\n",
    "            multiplication_result = image_array[i:i+3,j:j+ 3, :] * (1/9)\n",
    "            sum_result = np.sum(np.sum(multiplication_result, axis=1),axis =0)\n",
    "            result = np.append(result, sum_result)\n",
    "    return result.reshape(col_out, row_out, cor_out)/255\n",
    "\n"
   ]
  },
  {
   "cell_type": "code",
   "execution_count": 141,
   "metadata": {},
   "outputs": [
    {
     "name": "stdout",
     "output_type": "stream",
     "text": [
      "<class 'numpy.float64'>\n",
      "<class 'numpy.float64'>\n"
     ]
    }
   ],
   "source": [
    "filtered_image = compute_filter(image, filter_arr)\n",
    "lol2 = np.clip(filtered_image, 0, 255)\n",
    "print(type(filtered_image[0][0][0]))\n",
    "print(type(lol2[0][0][0]))\n"
   ]
  },
  {
   "cell_type": "code",
   "execution_count": 130,
   "metadata": {},
   "outputs": [],
   "source": [
    "cv2.imshow(\"image\", lol2)\n",
    "cv2.waitKey(0)#Can Kill the window by pressig 0\n",
    "cv2.destroyAllWindows() #Destroys the windows"
   ]
  },
  {
   "cell_type": "code",
   "execution_count": null,
   "metadata": {},
   "outputs": [],
   "source": []
  }
 ],
 "metadata": {
  "kernelspec": {
   "display_name": "excalibur",
   "language": "python",
   "name": "python3"
  },
  "language_info": {
   "codemirror_mode": {
    "name": "ipython",
    "version": 3
   },
   "file_extension": ".py",
   "mimetype": "text/x-python",
   "name": "python",
   "nbconvert_exporter": "python",
   "pygments_lexer": "ipython3",
   "version": "3.12.5"
  }
 },
 "nbformat": 4,
 "nbformat_minor": 2
}
